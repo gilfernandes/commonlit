{
 "cells": [
  {
   "cell_type": "code",
   "execution_count": null,
   "id": "505e1dbe-f484-4304-8001-f10b5e0321c8",
   "metadata": {},
   "outputs": [],
   "source": [
    "# !pip install transformers\n",
    "# !pip install datasets"
   ]
  },
  {
   "cell_type": "code",
   "execution_count": 1,
   "id": "8ef39394-5986-44bb-a6d6-84957a492ae5",
   "metadata": {},
   "outputs": [],
   "source": [
    "import os, gc, sys, time, collections, random\n",
    "import numpy as np\n",
    "import pandas as pd\n",
    "\n",
    "from typing import Dict, Optional, Union, Any, List, Tuple\n",
    "\n",
    "from pathlib import Path\n",
    "from sklearn.metrics import mean_squared_error\n",
    "from sklearn.model_selection import StratifiedKFold\n",
    "\n",
    "import torch\n",
    "import torch.nn as nn\n",
    "\n",
    "import torch.utils.data as D\n",
    "from torch.utils.data.dataset import Dataset, IterableDataset\n",
    "from torch.utils.data.dataloader import DataLoader\n",
    "\n",
    "from transformers import DataCollatorForLanguageModeling\n",
    "from transformers import BertTokenizerFast\n",
    "from transformers import BertModel\n",
    "from transformers import Trainer\n",
    "from transformers import AutoModel, AutoTokenizer, AutoModelForMaskedLM\n",
    "from transformers.data.processors.utils import InputFeatures\n",
    "from transformers import TrainingArguments\n",
    "from transformers.trainer_utils import EvalLoopOutput\n",
    "from transformers.trainer import logging\n",
    "from transformers.file_utils import is_torch_tpu_available, is_sagemaker_mp_enabled\n",
    "from transformers.trainer_pt_utils import find_batch_size, nested_concat, nested_numpify, nested_truncate, nested_detach\n",
    "from transformers import EarlyStoppingCallback\n",
    "\n",
    "from datasets import load_dataset"
   ]
  },
  {
   "cell_type": "markdown",
   "id": "f58c54d1-55c1-4701-9fde-692cf4450c84",
   "metadata": {},
   "source": [
    "### Folders and Dataframes"
   ]
  },
  {
   "cell_type": "code",
   "execution_count": 2,
   "id": "08c75e83-4760-4511-bf31-a144abfc01fc",
   "metadata": {},
   "outputs": [],
   "source": [
    "DATA_PATH = Path('/home/commonlit/data/')\n",
    "assert DATA_PATH.exists()\n",
    "MODELS_PATH = Path('/home/commonlit/models/')\n",
    "if not MODELS_PATH.exists():\n",
    "    os.mkdir(MODELS_PATH)\n",
    "assert MODELS_PATH.exists()"
   ]
  },
  {
   "cell_type": "code",
   "execution_count": 3,
   "id": "86b25934-3c16-4cb0-ab3b-6d95223432f5",
   "metadata": {},
   "outputs": [
    {
     "name": "stdout",
     "output_type": "stream",
     "text": [
      "commonlit_lm\t\t       test.csv        train_duo.csv\n",
      "commonlitreadabilityprize.zip  train-orig.csv\n",
      "sample_submission.csv\t       train.csv\n"
     ]
    }
   ],
   "source": [
    "!ls {DATA_PATH}"
   ]
  },
  {
   "cell_type": "code",
   "execution_count": 4,
   "id": "f12796f2-c49a-4d32-9f38-0ecdec520539",
   "metadata": {},
   "outputs": [],
   "source": [
    "train_df = pd.read_csv(DATA_PATH/'train.csv')\n",
    "test_df = pd.read_csv(DATA_PATH/'test.csv')\n",
    "sample_df = pd.read_csv(DATA_PATH/'sample_submission.csv')"
   ]
  },
  {
   "cell_type": "code",
   "execution_count": 5,
   "id": "179a075d-6fa8-4cf4-b703-db4f09c9649e",
   "metadata": {},
   "outputs": [
    {
     "data": {
      "text/html": [
       "<div>\n",
       "<style scoped>\n",
       "    .dataframe tbody tr th:only-of-type {\n",
       "        vertical-align: middle;\n",
       "    }\n",
       "\n",
       "    .dataframe tbody tr th {\n",
       "        vertical-align: top;\n",
       "    }\n",
       "\n",
       "    .dataframe thead th {\n",
       "        text-align: right;\n",
       "    }\n",
       "</style>\n",
       "<table border=\"1\" class=\"dataframe\">\n",
       "  <thead>\n",
       "    <tr style=\"text-align: right;\">\n",
       "      <th></th>\n",
       "      <th>id</th>\n",
       "      <th>url_legal</th>\n",
       "      <th>license</th>\n",
       "      <th>excerpt</th>\n",
       "      <th>target</th>\n",
       "      <th>standard_error</th>\n",
       "    </tr>\n",
       "  </thead>\n",
       "  <tbody>\n",
       "    <tr>\n",
       "      <th>0</th>\n",
       "      <td>c12129c31</td>\n",
       "      <td>NaN</td>\n",
       "      <td>NaN</td>\n",
       "      <td>When the young people returned to the ballroom...</td>\n",
       "      <td>-0.340259</td>\n",
       "      <td>0.464009</td>\n",
       "    </tr>\n",
       "    <tr>\n",
       "      <th>1</th>\n",
       "      <td>c12129c31</td>\n",
       "      <td>NaN</td>\n",
       "      <td>NaN</td>\n",
       "      <td>When the young people returned to the ballroom...</td>\n",
       "      <td>-0.340259</td>\n",
       "      <td>0.464009</td>\n",
       "    </tr>\n",
       "    <tr>\n",
       "      <th>2</th>\n",
       "      <td>c12129c31</td>\n",
       "      <td>NaN</td>\n",
       "      <td>NaN</td>\n",
       "      <td>Patty concluded to move very slowly, thinking ...</td>\n",
       "      <td>-0.340259</td>\n",
       "      <td>0.464009</td>\n",
       "    </tr>\n",
       "    <tr>\n",
       "      <th>3</th>\n",
       "      <td>c12129c31</td>\n",
       "      <td>NaN</td>\n",
       "      <td>NaN</td>\n",
       "      <td>Patty concluded to move very slowly, thinking ...</td>\n",
       "      <td>-0.340259</td>\n",
       "      <td>0.464009</td>\n",
       "    </tr>\n",
       "    <tr>\n",
       "      <th>4</th>\n",
       "      <td>c12129c31</td>\n",
       "      <td>NaN</td>\n",
       "      <td>NaN</td>\n",
       "      <td>At last the game was concluded, as Roger Farri...</td>\n",
       "      <td>-0.340259</td>\n",
       "      <td>0.464009</td>\n",
       "    </tr>\n",
       "    <tr>\n",
       "      <th>...</th>\n",
       "      <td>...</td>\n",
       "      <td>...</td>\n",
       "      <td>...</td>\n",
       "      <td>...</td>\n",
       "      <td>...</td>\n",
       "      <td>...</td>\n",
       "    </tr>\n",
       "    <tr>\n",
       "      <th>2844</th>\n",
       "      <td>25ca8f498</td>\n",
       "      <td>https://sites.ehe.osu.edu/beyondpenguins/files...</td>\n",
       "      <td>CC BY-SA 3.0</td>\n",
       "      <td>When you think of dinosaurs and where they liv...</td>\n",
       "      <td>1.711390</td>\n",
       "      <td>0.646900</td>\n",
       "    </tr>\n",
       "    <tr>\n",
       "      <th>2845</th>\n",
       "      <td>2c26db523</td>\n",
       "      <td>https://en.wikibooks.org/wiki/Wikijunior:The_E...</td>\n",
       "      <td>CC BY-SA 3.0</td>\n",
       "      <td>So what is a solid? Solids are usually hard be...</td>\n",
       "      <td>0.189476</td>\n",
       "      <td>0.535648</td>\n",
       "    </tr>\n",
       "    <tr>\n",
       "      <th>2846</th>\n",
       "      <td>cd19e2350</td>\n",
       "      <td>https://en.wikibooks.org/wiki/Wikijunior:The_E...</td>\n",
       "      <td>CC BY-SA 3.0</td>\n",
       "      <td>The second state of matter we will discuss is ...</td>\n",
       "      <td>0.255209</td>\n",
       "      <td>0.483866</td>\n",
       "    </tr>\n",
       "    <tr>\n",
       "      <th>2847</th>\n",
       "      <td>15e2e9e7a</td>\n",
       "      <td>https://en.wikibooks.org/wiki/Geometry_for_Ele...</td>\n",
       "      <td>CC BY-SA 3.0</td>\n",
       "      <td>Solids are shapes that you can actually touch....</td>\n",
       "      <td>-0.215279</td>\n",
       "      <td>0.514128</td>\n",
       "    </tr>\n",
       "    <tr>\n",
       "      <th>2848</th>\n",
       "      <td>5b990ba77</td>\n",
       "      <td>https://en.wikibooks.org/wiki/Wikijunior:Biolo...</td>\n",
       "      <td>CC BY-SA 3.0</td>\n",
       "      <td>Animals are made of many cells. They eat thing...</td>\n",
       "      <td>0.300779</td>\n",
       "      <td>0.512379</td>\n",
       "    </tr>\n",
       "  </tbody>\n",
       "</table>\n",
       "<p>2849 rows × 6 columns</p>\n",
       "</div>"
      ],
      "text/plain": [
       "             id                                          url_legal  \\\n",
       "0     c12129c31                                                NaN   \n",
       "1     c12129c31                                                NaN   \n",
       "2     c12129c31                                                NaN   \n",
       "3     c12129c31                                                NaN   \n",
       "4     c12129c31                                                NaN   \n",
       "...         ...                                                ...   \n",
       "2844  25ca8f498  https://sites.ehe.osu.edu/beyondpenguins/files...   \n",
       "2845  2c26db523  https://en.wikibooks.org/wiki/Wikijunior:The_E...   \n",
       "2846  cd19e2350  https://en.wikibooks.org/wiki/Wikijunior:The_E...   \n",
       "2847  15e2e9e7a  https://en.wikibooks.org/wiki/Geometry_for_Ele...   \n",
       "2848  5b990ba77  https://en.wikibooks.org/wiki/Wikijunior:Biolo...   \n",
       "\n",
       "           license                                            excerpt  \\\n",
       "0              NaN  When the young people returned to the ballroom...   \n",
       "1              NaN  When the young people returned to the ballroom...   \n",
       "2              NaN  Patty concluded to move very slowly, thinking ...   \n",
       "3              NaN  Patty concluded to move very slowly, thinking ...   \n",
       "4              NaN  At last the game was concluded, as Roger Farri...   \n",
       "...            ...                                                ...   \n",
       "2844  CC BY-SA 3.0  When you think of dinosaurs and where they liv...   \n",
       "2845  CC BY-SA 3.0  So what is a solid? Solids are usually hard be...   \n",
       "2846  CC BY-SA 3.0  The second state of matter we will discuss is ...   \n",
       "2847  CC BY-SA 3.0  Solids are shapes that you can actually touch....   \n",
       "2848  CC BY-SA 3.0  Animals are made of many cells. They eat thing...   \n",
       "\n",
       "        target  standard_error  \n",
       "0    -0.340259        0.464009  \n",
       "1    -0.340259        0.464009  \n",
       "2    -0.340259        0.464009  \n",
       "3    -0.340259        0.464009  \n",
       "4    -0.340259        0.464009  \n",
       "...        ...             ...  \n",
       "2844  1.711390        0.646900  \n",
       "2845  0.189476        0.535648  \n",
       "2846  0.255209        0.483866  \n",
       "2847 -0.215279        0.514128  \n",
       "2848  0.300779        0.512379  \n",
       "\n",
       "[2849 rows x 6 columns]"
      ]
     },
     "execution_count": 5,
     "metadata": {},
     "output_type": "execute_result"
    }
   ],
   "source": [
    "train_df"
   ]
  },
  {
   "cell_type": "code",
   "execution_count": 6,
   "id": "efffba57-a6ab-4210-8391-5f2fccb3fd81",
   "metadata": {},
   "outputs": [
    {
     "data": {
      "text/plain": [
       "array(['The Battle of Waterloo was a battle that was fought mostly between French and British forces. Napoleon was crowned as Emperor of France in 1804. Then he launched many successful attacks on other countries in Europe. France soon had an empire that stretched from Spain to the Russian border. The only country that was still not captured was Great Britain. The Royal Navy had many ships, so invasion by France was not possible. However, Great Britain was not strong enough to stop Napoleon and his army from taking over most of mainland Europe.\\nNapoleon seemed unstoppable until two separate campaigns caused his empire to fall apart. He gathered a huge army to invade and conquer Russia once and for all in 1812. However, he did not think that he would have very many difficulties and it turned out he did. His army was caught by the Russian winter and destroyed by the weather and lack of food.',\n",
       "       'Napoleon was crowned as Emperor of France in 1804, and then launched the successful Napoleonic Wars. France soon had an empire that stretched from Spain to the Russian border. Defeated at the Battle of Leipzig and elsewhere, he accepted exile on the island of Elba in 1814. In February 1815 he again took control of the French Army. He attacked his enemies in Belgium and was defeated at Waterloo. It was the last battle of the Napoleonic Wars.\\nNapoleon seemed unstoppable until two separate campaigns failed. He gathered a huge army to invade and conquer Russia in 1812. His army was caught by the Russian winter and destroyed by the weather and lack of food. The countries of Eastern Europe, led by Austria and Prussia, began to ally against him, forcing his troops back towards France.'],\n",
       "      dtype=object)"
      ]
     },
     "execution_count": 6,
     "metadata": {},
     "output_type": "execute_result"
    }
   ],
   "source": [
    "train_df[train_df['id'] == '5127fb10f']['excerpt'].values"
   ]
  },
  {
   "cell_type": "code",
   "execution_count": 7,
   "id": "4f5b0bd8-527e-4b89-9082-f0780c9ae28f",
   "metadata": {},
   "outputs": [
    {
     "data": {
      "text/plain": [
       "(7,)"
      ]
     },
     "execution_count": 7,
     "metadata": {},
     "output_type": "execute_result"
    }
   ],
   "source": [
    "test_df['excerpt'].values.shape"
   ]
  },
  {
   "cell_type": "markdown",
   "id": "b8d4c203-a3a8-401c-8643-107557574b99",
   "metadata": {},
   "source": [
    "### Duobert"
   ]
  },
  {
   "cell_type": "code",
   "execution_count": 8,
   "id": "60cec3c6-7d72-4bb4-92eb-214aac72bee1",
   "metadata": {},
   "outputs": [],
   "source": [
    "train_df.sort_values(['target'], inplace=True)"
   ]
  },
  {
   "cell_type": "code",
   "execution_count": 9,
   "id": "174aed02-dc20-4ecf-9c17-0905716dabe8",
   "metadata": {},
   "outputs": [],
   "source": [
    "train_df['excerpt_shifted'] = train_df['excerpt'].shift(1)"
   ]
  },
  {
   "cell_type": "code",
   "execution_count": 10,
   "id": "f045ff25-e440-4f27-963e-1ce118599e29",
   "metadata": {},
   "outputs": [
    {
     "data": {
      "text/html": [
       "<div>\n",
       "<style scoped>\n",
       "    .dataframe tbody tr th:only-of-type {\n",
       "        vertical-align: middle;\n",
       "    }\n",
       "\n",
       "    .dataframe tbody tr th {\n",
       "        vertical-align: top;\n",
       "    }\n",
       "\n",
       "    .dataframe thead th {\n",
       "        text-align: right;\n",
       "    }\n",
       "</style>\n",
       "<table border=\"1\" class=\"dataframe\">\n",
       "  <thead>\n",
       "    <tr style=\"text-align: right;\">\n",
       "      <th></th>\n",
       "      <th>id</th>\n",
       "      <th>url_legal</th>\n",
       "      <th>license</th>\n",
       "      <th>excerpt</th>\n",
       "      <th>target</th>\n",
       "      <th>standard_error</th>\n",
       "      <th>excerpt_shifted</th>\n",
       "    </tr>\n",
       "  </thead>\n",
       "  <tbody>\n",
       "    <tr>\n",
       "      <th>1720</th>\n",
       "      <td>4626100d8</td>\n",
       "      <td>NaN</td>\n",
       "      <td>NaN</td>\n",
       "      <td>The commutator is peculiar, consisting of only...</td>\n",
       "      <td>-3.676268</td>\n",
       "      <td>0.623621</td>\n",
       "      <td>NaN</td>\n",
       "    </tr>\n",
       "    <tr>\n",
       "      <th>1142</th>\n",
       "      <td>493b80aa7</td>\n",
       "      <td>NaN</td>\n",
       "      <td>NaN</td>\n",
       "      <td>The Dunwich horror itself came between Lammas ...</td>\n",
       "      <td>-3.668360</td>\n",
       "      <td>0.571404</td>\n",
       "      <td>The commutator is peculiar, consisting of only...</td>\n",
       "    </tr>\n",
       "    <tr>\n",
       "      <th>1769</th>\n",
       "      <td>fe44cbd14</td>\n",
       "      <td>NaN</td>\n",
       "      <td>NaN</td>\n",
       "      <td>The iron cylinder weighs 23 kilogrammes; but, ...</td>\n",
       "      <td>-3.642892</td>\n",
       "      <td>0.644398</td>\n",
       "      <td>The Dunwich horror itself came between Lammas ...</td>\n",
       "    </tr>\n",
       "    <tr>\n",
       "      <th>1767</th>\n",
       "      <td>284eaa5ad</td>\n",
       "      <td>NaN</td>\n",
       "      <td>NaN</td>\n",
       "      <td>As to surface-slope its measurement—from nearl...</td>\n",
       "      <td>-3.639936</td>\n",
       "      <td>0.603819</td>\n",
       "      <td>The iron cylinder weighs 23 kilogrammes; but, ...</td>\n",
       "    </tr>\n",
       "    <tr>\n",
       "      <th>1735</th>\n",
       "      <td>9e9eacb49</td>\n",
       "      <td>NaN</td>\n",
       "      <td>NaN</td>\n",
       "      <td>The tree is dioecious, bearing male catkins on...</td>\n",
       "      <td>-3.636834</td>\n",
       "      <td>0.606822</td>\n",
       "      <td>As to surface-slope its measurement—from nearl...</td>\n",
       "    </tr>\n",
       "    <tr>\n",
       "      <th>...</th>\n",
       "      <td>...</td>\n",
       "      <td>...</td>\n",
       "      <td>...</td>\n",
       "      <td>...</td>\n",
       "      <td>...</td>\n",
       "      <td>...</td>\n",
       "      <td>...</td>\n",
       "    </tr>\n",
       "    <tr>\n",
       "      <th>1080</th>\n",
       "      <td>016913371</td>\n",
       "      <td>https://www.africanstorybook.org/</td>\n",
       "      <td>CC BY 4.0</td>\n",
       "      <td>Grandma's garden was wonderful. It was full of...</td>\n",
       "      <td>1.467665</td>\n",
       "      <td>0.599600</td>\n",
       "      <td>There was once a young man who spent all his t...</td>\n",
       "    </tr>\n",
       "    <tr>\n",
       "      <th>1028</th>\n",
       "      <td>7a1d484be</td>\n",
       "      <td>https://www.africanstorybook.org/</td>\n",
       "      <td>CC BY 4.0</td>\n",
       "      <td>More people came to the bus stop just before 9...</td>\n",
       "      <td>1.541672</td>\n",
       "      <td>0.606997</td>\n",
       "      <td>Grandma's garden was wonderful. It was full of...</td>\n",
       "    </tr>\n",
       "    <tr>\n",
       "      <th>822</th>\n",
       "      <td>8f35441e3</td>\n",
       "      <td>https://www.africanstorybook.org/#</td>\n",
       "      <td>CC BY 4.0</td>\n",
       "      <td>Every day, Emeka's father took him to school i...</td>\n",
       "      <td>1.583847</td>\n",
       "      <td>0.624776</td>\n",
       "      <td>More people came to the bus stop just before 9...</td>\n",
       "    </tr>\n",
       "    <tr>\n",
       "      <th>995</th>\n",
       "      <td>849971671</td>\n",
       "      <td>https://www.africanstorybook.org/</td>\n",
       "      <td>CC BY 4.0</td>\n",
       "      <td>For her last birthday, Sisanda had a special t...</td>\n",
       "      <td>1.597870</td>\n",
       "      <td>0.596349</td>\n",
       "      <td>Every day, Emeka's father took him to school i...</td>\n",
       "    </tr>\n",
       "    <tr>\n",
       "      <th>2844</th>\n",
       "      <td>25ca8f498</td>\n",
       "      <td>https://sites.ehe.osu.edu/beyondpenguins/files...</td>\n",
       "      <td>CC BY-SA 3.0</td>\n",
       "      <td>When you think of dinosaurs and where they liv...</td>\n",
       "      <td>1.711390</td>\n",
       "      <td>0.646900</td>\n",
       "      <td>For her last birthday, Sisanda had a special t...</td>\n",
       "    </tr>\n",
       "  </tbody>\n",
       "</table>\n",
       "<p>2849 rows × 7 columns</p>\n",
       "</div>"
      ],
      "text/plain": [
       "             id                                          url_legal  \\\n",
       "1720  4626100d8                                                NaN   \n",
       "1142  493b80aa7                                                NaN   \n",
       "1769  fe44cbd14                                                NaN   \n",
       "1767  284eaa5ad                                                NaN   \n",
       "1735  9e9eacb49                                                NaN   \n",
       "...         ...                                                ...   \n",
       "1080  016913371                  https://www.africanstorybook.org/   \n",
       "1028  7a1d484be                  https://www.africanstorybook.org/   \n",
       "822   8f35441e3                 https://www.africanstorybook.org/#   \n",
       "995   849971671                  https://www.africanstorybook.org/   \n",
       "2844  25ca8f498  https://sites.ehe.osu.edu/beyondpenguins/files...   \n",
       "\n",
       "           license                                            excerpt  \\\n",
       "1720           NaN  The commutator is peculiar, consisting of only...   \n",
       "1142           NaN  The Dunwich horror itself came between Lammas ...   \n",
       "1769           NaN  The iron cylinder weighs 23 kilogrammes; but, ...   \n",
       "1767           NaN  As to surface-slope its measurement—from nearl...   \n",
       "1735           NaN  The tree is dioecious, bearing male catkins on...   \n",
       "...            ...                                                ...   \n",
       "1080     CC BY 4.0  Grandma's garden was wonderful. It was full of...   \n",
       "1028     CC BY 4.0  More people came to the bus stop just before 9...   \n",
       "822      CC BY 4.0  Every day, Emeka's father took him to school i...   \n",
       "995      CC BY 4.0  For her last birthday, Sisanda had a special t...   \n",
       "2844  CC BY-SA 3.0  When you think of dinosaurs and where they liv...   \n",
       "\n",
       "        target  standard_error  \\\n",
       "1720 -3.676268        0.623621   \n",
       "1142 -3.668360        0.571404   \n",
       "1769 -3.642892        0.644398   \n",
       "1767 -3.639936        0.603819   \n",
       "1735 -3.636834        0.606822   \n",
       "...        ...             ...   \n",
       "1080  1.467665        0.599600   \n",
       "1028  1.541672        0.606997   \n",
       "822   1.583847        0.624776   \n",
       "995   1.597870        0.596349   \n",
       "2844  1.711390        0.646900   \n",
       "\n",
       "                                        excerpt_shifted  \n",
       "1720                                                NaN  \n",
       "1142  The commutator is peculiar, consisting of only...  \n",
       "1769  The Dunwich horror itself came between Lammas ...  \n",
       "1767  The iron cylinder weighs 23 kilogrammes; but, ...  \n",
       "1735  As to surface-slope its measurement—from nearl...  \n",
       "...                                                 ...  \n",
       "1080  There was once a young man who spent all his t...  \n",
       "1028  Grandma's garden was wonderful. It was full of...  \n",
       "822   More people came to the bus stop just before 9...  \n",
       "995   Every day, Emeka's father took him to school i...  \n",
       "2844  For her last birthday, Sisanda had a special t...  \n",
       "\n",
       "[2849 rows x 7 columns]"
      ]
     },
     "execution_count": 10,
     "metadata": {},
     "output_type": "execute_result"
    }
   ],
   "source": [
    "train_df"
   ]
  },
  {
   "cell_type": "code",
   "execution_count": 11,
   "id": "e66beda6-5d00-4260-88b9-5857a704b594",
   "metadata": {},
   "outputs": [],
   "source": [
    "train_df['target_shifted'] = train_df['target'].shift(1)"
   ]
  },
  {
   "cell_type": "code",
   "execution_count": 12,
   "id": "d1da6fdd-b06d-4e6a-835d-caa774142f99",
   "metadata": {},
   "outputs": [
    {
     "data": {
      "text/html": [
       "<div>\n",
       "<style scoped>\n",
       "    .dataframe tbody tr th:only-of-type {\n",
       "        vertical-align: middle;\n",
       "    }\n",
       "\n",
       "    .dataframe tbody tr th {\n",
       "        vertical-align: top;\n",
       "    }\n",
       "\n",
       "    .dataframe thead th {\n",
       "        text-align: right;\n",
       "    }\n",
       "</style>\n",
       "<table border=\"1\" class=\"dataframe\">\n",
       "  <thead>\n",
       "    <tr style=\"text-align: right;\">\n",
       "      <th></th>\n",
       "      <th>id</th>\n",
       "      <th>url_legal</th>\n",
       "      <th>license</th>\n",
       "      <th>excerpt</th>\n",
       "      <th>target</th>\n",
       "      <th>standard_error</th>\n",
       "      <th>excerpt_shifted</th>\n",
       "      <th>target_shifted</th>\n",
       "    </tr>\n",
       "  </thead>\n",
       "  <tbody>\n",
       "    <tr>\n",
       "      <th>1720</th>\n",
       "      <td>4626100d8</td>\n",
       "      <td>NaN</td>\n",
       "      <td>NaN</td>\n",
       "      <td>The commutator is peculiar, consisting of only...</td>\n",
       "      <td>-3.676268</td>\n",
       "      <td>0.623621</td>\n",
       "      <td>NaN</td>\n",
       "      <td>NaN</td>\n",
       "    </tr>\n",
       "    <tr>\n",
       "      <th>1142</th>\n",
       "      <td>493b80aa7</td>\n",
       "      <td>NaN</td>\n",
       "      <td>NaN</td>\n",
       "      <td>The Dunwich horror itself came between Lammas ...</td>\n",
       "      <td>-3.668360</td>\n",
       "      <td>0.571404</td>\n",
       "      <td>The commutator is peculiar, consisting of only...</td>\n",
       "      <td>-3.676268</td>\n",
       "    </tr>\n",
       "    <tr>\n",
       "      <th>1769</th>\n",
       "      <td>fe44cbd14</td>\n",
       "      <td>NaN</td>\n",
       "      <td>NaN</td>\n",
       "      <td>The iron cylinder weighs 23 kilogrammes; but, ...</td>\n",
       "      <td>-3.642892</td>\n",
       "      <td>0.644398</td>\n",
       "      <td>The Dunwich horror itself came between Lammas ...</td>\n",
       "      <td>-3.668360</td>\n",
       "    </tr>\n",
       "    <tr>\n",
       "      <th>1767</th>\n",
       "      <td>284eaa5ad</td>\n",
       "      <td>NaN</td>\n",
       "      <td>NaN</td>\n",
       "      <td>As to surface-slope its measurement—from nearl...</td>\n",
       "      <td>-3.639936</td>\n",
       "      <td>0.603819</td>\n",
       "      <td>The iron cylinder weighs 23 kilogrammes; but, ...</td>\n",
       "      <td>-3.642892</td>\n",
       "    </tr>\n",
       "    <tr>\n",
       "      <th>1735</th>\n",
       "      <td>9e9eacb49</td>\n",
       "      <td>NaN</td>\n",
       "      <td>NaN</td>\n",
       "      <td>The tree is dioecious, bearing male catkins on...</td>\n",
       "      <td>-3.636834</td>\n",
       "      <td>0.606822</td>\n",
       "      <td>As to surface-slope its measurement—from nearl...</td>\n",
       "      <td>-3.639936</td>\n",
       "    </tr>\n",
       "    <tr>\n",
       "      <th>...</th>\n",
       "      <td>...</td>\n",
       "      <td>...</td>\n",
       "      <td>...</td>\n",
       "      <td>...</td>\n",
       "      <td>...</td>\n",
       "      <td>...</td>\n",
       "      <td>...</td>\n",
       "      <td>...</td>\n",
       "    </tr>\n",
       "    <tr>\n",
       "      <th>1080</th>\n",
       "      <td>016913371</td>\n",
       "      <td>https://www.africanstorybook.org/</td>\n",
       "      <td>CC BY 4.0</td>\n",
       "      <td>Grandma's garden was wonderful. It was full of...</td>\n",
       "      <td>1.467665</td>\n",
       "      <td>0.599600</td>\n",
       "      <td>There was once a young man who spent all his t...</td>\n",
       "      <td>1.465592</td>\n",
       "    </tr>\n",
       "    <tr>\n",
       "      <th>1028</th>\n",
       "      <td>7a1d484be</td>\n",
       "      <td>https://www.africanstorybook.org/</td>\n",
       "      <td>CC BY 4.0</td>\n",
       "      <td>More people came to the bus stop just before 9...</td>\n",
       "      <td>1.541672</td>\n",
       "      <td>0.606997</td>\n",
       "      <td>Grandma's garden was wonderful. It was full of...</td>\n",
       "      <td>1.467665</td>\n",
       "    </tr>\n",
       "    <tr>\n",
       "      <th>822</th>\n",
       "      <td>8f35441e3</td>\n",
       "      <td>https://www.africanstorybook.org/#</td>\n",
       "      <td>CC BY 4.0</td>\n",
       "      <td>Every day, Emeka's father took him to school i...</td>\n",
       "      <td>1.583847</td>\n",
       "      <td>0.624776</td>\n",
       "      <td>More people came to the bus stop just before 9...</td>\n",
       "      <td>1.541672</td>\n",
       "    </tr>\n",
       "    <tr>\n",
       "      <th>995</th>\n",
       "      <td>849971671</td>\n",
       "      <td>https://www.africanstorybook.org/</td>\n",
       "      <td>CC BY 4.0</td>\n",
       "      <td>For her last birthday, Sisanda had a special t...</td>\n",
       "      <td>1.597870</td>\n",
       "      <td>0.596349</td>\n",
       "      <td>Every day, Emeka's father took him to school i...</td>\n",
       "      <td>1.583847</td>\n",
       "    </tr>\n",
       "    <tr>\n",
       "      <th>2844</th>\n",
       "      <td>25ca8f498</td>\n",
       "      <td>https://sites.ehe.osu.edu/beyondpenguins/files...</td>\n",
       "      <td>CC BY-SA 3.0</td>\n",
       "      <td>When you think of dinosaurs and where they liv...</td>\n",
       "      <td>1.711390</td>\n",
       "      <td>0.646900</td>\n",
       "      <td>For her last birthday, Sisanda had a special t...</td>\n",
       "      <td>1.597870</td>\n",
       "    </tr>\n",
       "  </tbody>\n",
       "</table>\n",
       "<p>2849 rows × 8 columns</p>\n",
       "</div>"
      ],
      "text/plain": [
       "             id                                          url_legal  \\\n",
       "1720  4626100d8                                                NaN   \n",
       "1142  493b80aa7                                                NaN   \n",
       "1769  fe44cbd14                                                NaN   \n",
       "1767  284eaa5ad                                                NaN   \n",
       "1735  9e9eacb49                                                NaN   \n",
       "...         ...                                                ...   \n",
       "1080  016913371                  https://www.africanstorybook.org/   \n",
       "1028  7a1d484be                  https://www.africanstorybook.org/   \n",
       "822   8f35441e3                 https://www.africanstorybook.org/#   \n",
       "995   849971671                  https://www.africanstorybook.org/   \n",
       "2844  25ca8f498  https://sites.ehe.osu.edu/beyondpenguins/files...   \n",
       "\n",
       "           license                                            excerpt  \\\n",
       "1720           NaN  The commutator is peculiar, consisting of only...   \n",
       "1142           NaN  The Dunwich horror itself came between Lammas ...   \n",
       "1769           NaN  The iron cylinder weighs 23 kilogrammes; but, ...   \n",
       "1767           NaN  As to surface-slope its measurement—from nearl...   \n",
       "1735           NaN  The tree is dioecious, bearing male catkins on...   \n",
       "...            ...                                                ...   \n",
       "1080     CC BY 4.0  Grandma's garden was wonderful. It was full of...   \n",
       "1028     CC BY 4.0  More people came to the bus stop just before 9...   \n",
       "822      CC BY 4.0  Every day, Emeka's father took him to school i...   \n",
       "995      CC BY 4.0  For her last birthday, Sisanda had a special t...   \n",
       "2844  CC BY-SA 3.0  When you think of dinosaurs and where they liv...   \n",
       "\n",
       "        target  standard_error  \\\n",
       "1720 -3.676268        0.623621   \n",
       "1142 -3.668360        0.571404   \n",
       "1769 -3.642892        0.644398   \n",
       "1767 -3.639936        0.603819   \n",
       "1735 -3.636834        0.606822   \n",
       "...        ...             ...   \n",
       "1080  1.467665        0.599600   \n",
       "1028  1.541672        0.606997   \n",
       "822   1.583847        0.624776   \n",
       "995   1.597870        0.596349   \n",
       "2844  1.711390        0.646900   \n",
       "\n",
       "                                        excerpt_shifted  target_shifted  \n",
       "1720                                                NaN             NaN  \n",
       "1142  The commutator is peculiar, consisting of only...       -3.676268  \n",
       "1769  The Dunwich horror itself came between Lammas ...       -3.668360  \n",
       "1767  The iron cylinder weighs 23 kilogrammes; but, ...       -3.642892  \n",
       "1735  As to surface-slope its measurement—from nearl...       -3.639936  \n",
       "...                                                 ...             ...  \n",
       "1080  There was once a young man who spent all his t...        1.465592  \n",
       "1028  Grandma's garden was wonderful. It was full of...        1.467665  \n",
       "822   More people came to the bus stop just before 9...        1.541672  \n",
       "995   Every day, Emeka's father took him to school i...        1.583847  \n",
       "2844  For her last birthday, Sisanda had a special t...        1.597870  \n",
       "\n",
       "[2849 rows x 8 columns]"
      ]
     },
     "execution_count": 12,
     "metadata": {},
     "output_type": "execute_result"
    }
   ],
   "source": [
    "train_df"
   ]
  },
  {
   "cell_type": "code",
   "execution_count": 13,
   "id": "324408d2-a5d9-4a90-a95d-7ca7cd655ffd",
   "metadata": {},
   "outputs": [],
   "source": [
    "train_df = train_df[train_df['target_shifted'].notna()]"
   ]
  },
  {
   "cell_type": "code",
   "execution_count": 14,
   "id": "f852d058-06ca-445c-bd99-3cf4f6f5d28c",
   "metadata": {},
   "outputs": [
    {
     "data": {
      "text/html": [
       "<div>\n",
       "<style scoped>\n",
       "    .dataframe tbody tr th:only-of-type {\n",
       "        vertical-align: middle;\n",
       "    }\n",
       "\n",
       "    .dataframe tbody tr th {\n",
       "        vertical-align: top;\n",
       "    }\n",
       "\n",
       "    .dataframe thead th {\n",
       "        text-align: right;\n",
       "    }\n",
       "</style>\n",
       "<table border=\"1\" class=\"dataframe\">\n",
       "  <thead>\n",
       "    <tr style=\"text-align: right;\">\n",
       "      <th></th>\n",
       "      <th>id</th>\n",
       "      <th>url_legal</th>\n",
       "      <th>license</th>\n",
       "      <th>excerpt</th>\n",
       "      <th>target</th>\n",
       "      <th>standard_error</th>\n",
       "      <th>excerpt_shifted</th>\n",
       "      <th>target_shifted</th>\n",
       "    </tr>\n",
       "  </thead>\n",
       "  <tbody>\n",
       "    <tr>\n",
       "      <th>1142</th>\n",
       "      <td>493b80aa7</td>\n",
       "      <td>NaN</td>\n",
       "      <td>NaN</td>\n",
       "      <td>The Dunwich horror itself came between Lammas ...</td>\n",
       "      <td>-3.668360</td>\n",
       "      <td>0.571404</td>\n",
       "      <td>The commutator is peculiar, consisting of only...</td>\n",
       "      <td>-3.676268</td>\n",
       "    </tr>\n",
       "    <tr>\n",
       "      <th>1769</th>\n",
       "      <td>fe44cbd14</td>\n",
       "      <td>NaN</td>\n",
       "      <td>NaN</td>\n",
       "      <td>The iron cylinder weighs 23 kilogrammes; but, ...</td>\n",
       "      <td>-3.642892</td>\n",
       "      <td>0.644398</td>\n",
       "      <td>The Dunwich horror itself came between Lammas ...</td>\n",
       "      <td>-3.668360</td>\n",
       "    </tr>\n",
       "    <tr>\n",
       "      <th>1767</th>\n",
       "      <td>284eaa5ad</td>\n",
       "      <td>NaN</td>\n",
       "      <td>NaN</td>\n",
       "      <td>As to surface-slope its measurement—from nearl...</td>\n",
       "      <td>-3.639936</td>\n",
       "      <td>0.603819</td>\n",
       "      <td>The iron cylinder weighs 23 kilogrammes; but, ...</td>\n",
       "      <td>-3.642892</td>\n",
       "    </tr>\n",
       "    <tr>\n",
       "      <th>1735</th>\n",
       "      <td>9e9eacb49</td>\n",
       "      <td>NaN</td>\n",
       "      <td>NaN</td>\n",
       "      <td>The tree is dioecious, bearing male catkins on...</td>\n",
       "      <td>-3.636834</td>\n",
       "      <td>0.606822</td>\n",
       "      <td>As to surface-slope its measurement—from nearl...</td>\n",
       "      <td>-3.639936</td>\n",
       "    </tr>\n",
       "    <tr>\n",
       "      <th>1854</th>\n",
       "      <td>466e33a64</td>\n",
       "      <td>NaN</td>\n",
       "      <td>NaN</td>\n",
       "      <td>The copper even of such a conductor has been m...</td>\n",
       "      <td>-3.596751</td>\n",
       "      <td>0.567050</td>\n",
       "      <td>The tree is dioecious, bearing male catkins on...</td>\n",
       "      <td>-3.636834</td>\n",
       "    </tr>\n",
       "    <tr>\n",
       "      <th>...</th>\n",
       "      <td>...</td>\n",
       "      <td>...</td>\n",
       "      <td>...</td>\n",
       "      <td>...</td>\n",
       "      <td>...</td>\n",
       "      <td>...</td>\n",
       "      <td>...</td>\n",
       "      <td>...</td>\n",
       "    </tr>\n",
       "    <tr>\n",
       "      <th>1080</th>\n",
       "      <td>016913371</td>\n",
       "      <td>https://www.africanstorybook.org/</td>\n",
       "      <td>CC BY 4.0</td>\n",
       "      <td>Grandma's garden was wonderful. It was full of...</td>\n",
       "      <td>1.467665</td>\n",
       "      <td>0.599600</td>\n",
       "      <td>There was once a young man who spent all his t...</td>\n",
       "      <td>1.465592</td>\n",
       "    </tr>\n",
       "    <tr>\n",
       "      <th>1028</th>\n",
       "      <td>7a1d484be</td>\n",
       "      <td>https://www.africanstorybook.org/</td>\n",
       "      <td>CC BY 4.0</td>\n",
       "      <td>More people came to the bus stop just before 9...</td>\n",
       "      <td>1.541672</td>\n",
       "      <td>0.606997</td>\n",
       "      <td>Grandma's garden was wonderful. It was full of...</td>\n",
       "      <td>1.467665</td>\n",
       "    </tr>\n",
       "    <tr>\n",
       "      <th>822</th>\n",
       "      <td>8f35441e3</td>\n",
       "      <td>https://www.africanstorybook.org/#</td>\n",
       "      <td>CC BY 4.0</td>\n",
       "      <td>Every day, Emeka's father took him to school i...</td>\n",
       "      <td>1.583847</td>\n",
       "      <td>0.624776</td>\n",
       "      <td>More people came to the bus stop just before 9...</td>\n",
       "      <td>1.541672</td>\n",
       "    </tr>\n",
       "    <tr>\n",
       "      <th>995</th>\n",
       "      <td>849971671</td>\n",
       "      <td>https://www.africanstorybook.org/</td>\n",
       "      <td>CC BY 4.0</td>\n",
       "      <td>For her last birthday, Sisanda had a special t...</td>\n",
       "      <td>1.597870</td>\n",
       "      <td>0.596349</td>\n",
       "      <td>Every day, Emeka's father took him to school i...</td>\n",
       "      <td>1.583847</td>\n",
       "    </tr>\n",
       "    <tr>\n",
       "      <th>2844</th>\n",
       "      <td>25ca8f498</td>\n",
       "      <td>https://sites.ehe.osu.edu/beyondpenguins/files...</td>\n",
       "      <td>CC BY-SA 3.0</td>\n",
       "      <td>When you think of dinosaurs and where they liv...</td>\n",
       "      <td>1.711390</td>\n",
       "      <td>0.646900</td>\n",
       "      <td>For her last birthday, Sisanda had a special t...</td>\n",
       "      <td>1.597870</td>\n",
       "    </tr>\n",
       "  </tbody>\n",
       "</table>\n",
       "<p>2848 rows × 8 columns</p>\n",
       "</div>"
      ],
      "text/plain": [
       "             id                                          url_legal  \\\n",
       "1142  493b80aa7                                                NaN   \n",
       "1769  fe44cbd14                                                NaN   \n",
       "1767  284eaa5ad                                                NaN   \n",
       "1735  9e9eacb49                                                NaN   \n",
       "1854  466e33a64                                                NaN   \n",
       "...         ...                                                ...   \n",
       "1080  016913371                  https://www.africanstorybook.org/   \n",
       "1028  7a1d484be                  https://www.africanstorybook.org/   \n",
       "822   8f35441e3                 https://www.africanstorybook.org/#   \n",
       "995   849971671                  https://www.africanstorybook.org/   \n",
       "2844  25ca8f498  https://sites.ehe.osu.edu/beyondpenguins/files...   \n",
       "\n",
       "           license                                            excerpt  \\\n",
       "1142           NaN  The Dunwich horror itself came between Lammas ...   \n",
       "1769           NaN  The iron cylinder weighs 23 kilogrammes; but, ...   \n",
       "1767           NaN  As to surface-slope its measurement—from nearl...   \n",
       "1735           NaN  The tree is dioecious, bearing male catkins on...   \n",
       "1854           NaN  The copper even of such a conductor has been m...   \n",
       "...            ...                                                ...   \n",
       "1080     CC BY 4.0  Grandma's garden was wonderful. It was full of...   \n",
       "1028     CC BY 4.0  More people came to the bus stop just before 9...   \n",
       "822      CC BY 4.0  Every day, Emeka's father took him to school i...   \n",
       "995      CC BY 4.0  For her last birthday, Sisanda had a special t...   \n",
       "2844  CC BY-SA 3.0  When you think of dinosaurs and where they liv...   \n",
       "\n",
       "        target  standard_error  \\\n",
       "1142 -3.668360        0.571404   \n",
       "1769 -3.642892        0.644398   \n",
       "1767 -3.639936        0.603819   \n",
       "1735 -3.636834        0.606822   \n",
       "1854 -3.596751        0.567050   \n",
       "...        ...             ...   \n",
       "1080  1.467665        0.599600   \n",
       "1028  1.541672        0.606997   \n",
       "822   1.583847        0.624776   \n",
       "995   1.597870        0.596349   \n",
       "2844  1.711390        0.646900   \n",
       "\n",
       "                                        excerpt_shifted  target_shifted  \n",
       "1142  The commutator is peculiar, consisting of only...       -3.676268  \n",
       "1769  The Dunwich horror itself came between Lammas ...       -3.668360  \n",
       "1767  The iron cylinder weighs 23 kilogrammes; but, ...       -3.642892  \n",
       "1735  As to surface-slope its measurement—from nearl...       -3.639936  \n",
       "1854  The tree is dioecious, bearing male catkins on...       -3.636834  \n",
       "...                                                 ...             ...  \n",
       "1080  There was once a young man who spent all his t...        1.465592  \n",
       "1028  Grandma's garden was wonderful. It was full of...        1.467665  \n",
       "822   More people came to the bus stop just before 9...        1.541672  \n",
       "995   Every day, Emeka's father took him to school i...        1.583847  \n",
       "2844  For her last birthday, Sisanda had a special t...        1.597870  \n",
       "\n",
       "[2848 rows x 8 columns]"
      ]
     },
     "execution_count": 14,
     "metadata": {},
     "output_type": "execute_result"
    }
   ],
   "source": [
    "train_df"
   ]
  },
  {
   "cell_type": "code",
   "execution_count": 15,
   "id": "7b20b3a4-0fc1-4031-8d0c-5211e7e7023a",
   "metadata": {},
   "outputs": [
    {
     "name": "stderr",
     "output_type": "stream",
     "text": [
      "<ipython-input-15-fcd463210f10>:1: SettingWithCopyWarning: \n",
      "A value is trying to be set on a copy of a slice from a DataFrame.\n",
      "Try using .loc[row_indexer,col_indexer] = value instead\n",
      "\n",
      "See the caveats in the documentation: https://pandas.pydata.org/pandas-docs/stable/user_guide/indexing.html#returning-a-view-versus-a-copy\n",
      "  train_df['target_mean'] = np.mean(np.array([train_df['target'], train_df['target_shifted']]), axis=0)\n"
     ]
    }
   ],
   "source": [
    "train_df['target_mean'] = np.mean(np.array([train_df['target'], train_df['target_shifted']]), axis=0)"
   ]
  },
  {
   "cell_type": "code",
   "execution_count": 16,
   "id": "195a59bc-a4e3-4160-b7c9-1ed6a8be3b17",
   "metadata": {},
   "outputs": [
    {
     "data": {
      "text/html": [
       "<div>\n",
       "<style scoped>\n",
       "    .dataframe tbody tr th:only-of-type {\n",
       "        vertical-align: middle;\n",
       "    }\n",
       "\n",
       "    .dataframe tbody tr th {\n",
       "        vertical-align: top;\n",
       "    }\n",
       "\n",
       "    .dataframe thead th {\n",
       "        text-align: right;\n",
       "    }\n",
       "</style>\n",
       "<table border=\"1\" class=\"dataframe\">\n",
       "  <thead>\n",
       "    <tr style=\"text-align: right;\">\n",
       "      <th></th>\n",
       "      <th>id</th>\n",
       "      <th>url_legal</th>\n",
       "      <th>license</th>\n",
       "      <th>excerpt</th>\n",
       "      <th>target</th>\n",
       "      <th>standard_error</th>\n",
       "      <th>excerpt_shifted</th>\n",
       "      <th>target_shifted</th>\n",
       "      <th>target_mean</th>\n",
       "    </tr>\n",
       "  </thead>\n",
       "  <tbody>\n",
       "    <tr>\n",
       "      <th>1142</th>\n",
       "      <td>493b80aa7</td>\n",
       "      <td>NaN</td>\n",
       "      <td>NaN</td>\n",
       "      <td>The Dunwich horror itself came between Lammas ...</td>\n",
       "      <td>-3.668360</td>\n",
       "      <td>0.571404</td>\n",
       "      <td>The commutator is peculiar, consisting of only...</td>\n",
       "      <td>-3.676268</td>\n",
       "      <td>-3.672314</td>\n",
       "    </tr>\n",
       "    <tr>\n",
       "      <th>1769</th>\n",
       "      <td>fe44cbd14</td>\n",
       "      <td>NaN</td>\n",
       "      <td>NaN</td>\n",
       "      <td>The iron cylinder weighs 23 kilogrammes; but, ...</td>\n",
       "      <td>-3.642892</td>\n",
       "      <td>0.644398</td>\n",
       "      <td>The Dunwich horror itself came between Lammas ...</td>\n",
       "      <td>-3.668360</td>\n",
       "      <td>-3.655626</td>\n",
       "    </tr>\n",
       "    <tr>\n",
       "      <th>1767</th>\n",
       "      <td>284eaa5ad</td>\n",
       "      <td>NaN</td>\n",
       "      <td>NaN</td>\n",
       "      <td>As to surface-slope its measurement—from nearl...</td>\n",
       "      <td>-3.639936</td>\n",
       "      <td>0.603819</td>\n",
       "      <td>The iron cylinder weighs 23 kilogrammes; but, ...</td>\n",
       "      <td>-3.642892</td>\n",
       "      <td>-3.641414</td>\n",
       "    </tr>\n",
       "    <tr>\n",
       "      <th>1735</th>\n",
       "      <td>9e9eacb49</td>\n",
       "      <td>NaN</td>\n",
       "      <td>NaN</td>\n",
       "      <td>The tree is dioecious, bearing male catkins on...</td>\n",
       "      <td>-3.636834</td>\n",
       "      <td>0.606822</td>\n",
       "      <td>As to surface-slope its measurement—from nearl...</td>\n",
       "      <td>-3.639936</td>\n",
       "      <td>-3.638385</td>\n",
       "    </tr>\n",
       "    <tr>\n",
       "      <th>1854</th>\n",
       "      <td>466e33a64</td>\n",
       "      <td>NaN</td>\n",
       "      <td>NaN</td>\n",
       "      <td>The copper even of such a conductor has been m...</td>\n",
       "      <td>-3.596751</td>\n",
       "      <td>0.567050</td>\n",
       "      <td>The tree is dioecious, bearing male catkins on...</td>\n",
       "      <td>-3.636834</td>\n",
       "      <td>-3.616792</td>\n",
       "    </tr>\n",
       "    <tr>\n",
       "      <th>...</th>\n",
       "      <td>...</td>\n",
       "      <td>...</td>\n",
       "      <td>...</td>\n",
       "      <td>...</td>\n",
       "      <td>...</td>\n",
       "      <td>...</td>\n",
       "      <td>...</td>\n",
       "      <td>...</td>\n",
       "      <td>...</td>\n",
       "    </tr>\n",
       "    <tr>\n",
       "      <th>1080</th>\n",
       "      <td>016913371</td>\n",
       "      <td>https://www.africanstorybook.org/</td>\n",
       "      <td>CC BY 4.0</td>\n",
       "      <td>Grandma's garden was wonderful. It was full of...</td>\n",
       "      <td>1.467665</td>\n",
       "      <td>0.599600</td>\n",
       "      <td>There was once a young man who spent all his t...</td>\n",
       "      <td>1.465592</td>\n",
       "      <td>1.466629</td>\n",
       "    </tr>\n",
       "    <tr>\n",
       "      <th>1028</th>\n",
       "      <td>7a1d484be</td>\n",
       "      <td>https://www.africanstorybook.org/</td>\n",
       "      <td>CC BY 4.0</td>\n",
       "      <td>More people came to the bus stop just before 9...</td>\n",
       "      <td>1.541672</td>\n",
       "      <td>0.606997</td>\n",
       "      <td>Grandma's garden was wonderful. It was full of...</td>\n",
       "      <td>1.467665</td>\n",
       "      <td>1.504669</td>\n",
       "    </tr>\n",
       "    <tr>\n",
       "      <th>822</th>\n",
       "      <td>8f35441e3</td>\n",
       "      <td>https://www.africanstorybook.org/#</td>\n",
       "      <td>CC BY 4.0</td>\n",
       "      <td>Every day, Emeka's father took him to school i...</td>\n",
       "      <td>1.583847</td>\n",
       "      <td>0.624776</td>\n",
       "      <td>More people came to the bus stop just before 9...</td>\n",
       "      <td>1.541672</td>\n",
       "      <td>1.562759</td>\n",
       "    </tr>\n",
       "    <tr>\n",
       "      <th>995</th>\n",
       "      <td>849971671</td>\n",
       "      <td>https://www.africanstorybook.org/</td>\n",
       "      <td>CC BY 4.0</td>\n",
       "      <td>For her last birthday, Sisanda had a special t...</td>\n",
       "      <td>1.597870</td>\n",
       "      <td>0.596349</td>\n",
       "      <td>Every day, Emeka's father took him to school i...</td>\n",
       "      <td>1.583847</td>\n",
       "      <td>1.590858</td>\n",
       "    </tr>\n",
       "    <tr>\n",
       "      <th>2844</th>\n",
       "      <td>25ca8f498</td>\n",
       "      <td>https://sites.ehe.osu.edu/beyondpenguins/files...</td>\n",
       "      <td>CC BY-SA 3.0</td>\n",
       "      <td>When you think of dinosaurs and where they liv...</td>\n",
       "      <td>1.711390</td>\n",
       "      <td>0.646900</td>\n",
       "      <td>For her last birthday, Sisanda had a special t...</td>\n",
       "      <td>1.597870</td>\n",
       "      <td>1.654630</td>\n",
       "    </tr>\n",
       "  </tbody>\n",
       "</table>\n",
       "<p>2848 rows × 9 columns</p>\n",
       "</div>"
      ],
      "text/plain": [
       "             id                                          url_legal  \\\n",
       "1142  493b80aa7                                                NaN   \n",
       "1769  fe44cbd14                                                NaN   \n",
       "1767  284eaa5ad                                                NaN   \n",
       "1735  9e9eacb49                                                NaN   \n",
       "1854  466e33a64                                                NaN   \n",
       "...         ...                                                ...   \n",
       "1080  016913371                  https://www.africanstorybook.org/   \n",
       "1028  7a1d484be                  https://www.africanstorybook.org/   \n",
       "822   8f35441e3                 https://www.africanstorybook.org/#   \n",
       "995   849971671                  https://www.africanstorybook.org/   \n",
       "2844  25ca8f498  https://sites.ehe.osu.edu/beyondpenguins/files...   \n",
       "\n",
       "           license                                            excerpt  \\\n",
       "1142           NaN  The Dunwich horror itself came between Lammas ...   \n",
       "1769           NaN  The iron cylinder weighs 23 kilogrammes; but, ...   \n",
       "1767           NaN  As to surface-slope its measurement—from nearl...   \n",
       "1735           NaN  The tree is dioecious, bearing male catkins on...   \n",
       "1854           NaN  The copper even of such a conductor has been m...   \n",
       "...            ...                                                ...   \n",
       "1080     CC BY 4.0  Grandma's garden was wonderful. It was full of...   \n",
       "1028     CC BY 4.0  More people came to the bus stop just before 9...   \n",
       "822      CC BY 4.0  Every day, Emeka's father took him to school i...   \n",
       "995      CC BY 4.0  For her last birthday, Sisanda had a special t...   \n",
       "2844  CC BY-SA 3.0  When you think of dinosaurs and where they liv...   \n",
       "\n",
       "        target  standard_error  \\\n",
       "1142 -3.668360        0.571404   \n",
       "1769 -3.642892        0.644398   \n",
       "1767 -3.639936        0.603819   \n",
       "1735 -3.636834        0.606822   \n",
       "1854 -3.596751        0.567050   \n",
       "...        ...             ...   \n",
       "1080  1.467665        0.599600   \n",
       "1028  1.541672        0.606997   \n",
       "822   1.583847        0.624776   \n",
       "995   1.597870        0.596349   \n",
       "2844  1.711390        0.646900   \n",
       "\n",
       "                                        excerpt_shifted  target_shifted  \\\n",
       "1142  The commutator is peculiar, consisting of only...       -3.676268   \n",
       "1769  The Dunwich horror itself came between Lammas ...       -3.668360   \n",
       "1767  The iron cylinder weighs 23 kilogrammes; but, ...       -3.642892   \n",
       "1735  As to surface-slope its measurement—from nearl...       -3.639936   \n",
       "1854  The tree is dioecious, bearing male catkins on...       -3.636834   \n",
       "...                                                 ...             ...   \n",
       "1080  There was once a young man who spent all his t...        1.465592   \n",
       "1028  Grandma's garden was wonderful. It was full of...        1.467665   \n",
       "822   More people came to the bus stop just before 9...        1.541672   \n",
       "995   Every day, Emeka's father took him to school i...        1.583847   \n",
       "2844  For her last birthday, Sisanda had a special t...        1.597870   \n",
       "\n",
       "      target_mean  \n",
       "1142    -3.672314  \n",
       "1769    -3.655626  \n",
       "1767    -3.641414  \n",
       "1735    -3.638385  \n",
       "1854    -3.616792  \n",
       "...           ...  \n",
       "1080     1.466629  \n",
       "1028     1.504669  \n",
       "822      1.562759  \n",
       "995      1.590858  \n",
       "2844     1.654630  \n",
       "\n",
       "[2848 rows x 9 columns]"
      ]
     },
     "execution_count": 16,
     "metadata": {},
     "output_type": "execute_result"
    }
   ],
   "source": [
    "train_df"
   ]
  },
  {
   "cell_type": "code",
   "execution_count": 17,
   "id": "42a65ee7-bbce-4a38-9655-66bef903e7a3",
   "metadata": {},
   "outputs": [
    {
     "name": "stderr",
     "output_type": "stream",
     "text": [
      "/opt/conda/lib/python3.8/site-packages/pandas/core/indexing.py:1596: SettingWithCopyWarning: \n",
      "A value is trying to be set on a copy of a slice from a DataFrame.\n",
      "Try using .loc[row_indexer,col_indexer] = value instead\n",
      "\n",
      "See the caveats in the documentation: https://pandas.pydata.org/pandas-docs/stable/user_guide/indexing.html#returning-a-view-versus-a-copy\n",
      "  self.obj[key] = _infer_fill_value(value)\n",
      "/opt/conda/lib/python3.8/site-packages/pandas/core/indexing.py:1743: SettingWithCopyWarning: \n",
      "A value is trying to be set on a copy of a slice from a DataFrame.\n",
      "Try using .loc[row_indexer,col_indexer] = value instead\n",
      "\n",
      "See the caveats in the documentation: https://pandas.pydata.org/pandas-docs/stable/user_guide/indexing.html#returning-a-view-versus-a-copy\n",
      "  isetter(ilocs[0], value)\n"
     ]
    }
   ],
   "source": [
    "train_df.loc[:, 'excerpt_duo'] = train_df['excerpt'] + '\\n' +  (train_df['excerpt_shifted'])"
   ]
  },
  {
   "cell_type": "code",
   "execution_count": 18,
   "id": "b196109a-f5b7-43f7-a218-49434b4a0f33",
   "metadata": {},
   "outputs": [
    {
     "data": {
      "text/plain": [
       "\"The Dunwich horror itself came between Lammas and the equinox in 1928, and Dr. Armitage was among those who witnessed its monstrous prologue. He had heard, meanwhile, of Whateley's grotesque trip to Cambridge, and of his frantic efforts to borrow or copy from the Necronomicon at the Widener Library. Those efforts had been in vain, since Armitage had issued warnings of the keenest intensity to all librarians having charge of the dreaded volume. Wilbur had been shockingly nervous at Cambridge; anxious for the book, yet almost equally anxious to get home again, as if he feared the results of being away long.\\nEarly in August the half-expected outcome developed, and in the small hours of the third Dr. Armitage was awakened suddenly by the wild, fierce cries of the savage watchdog on the college campus. Deep and terrible, the snarling, half-mad growls and barks continued; always in mounting volume, but with hideously significant pauses. Then there rang out a scream from a wholly different throat—such a scream as roused half the sleepers of Arkham and haunted their dreams ever afterward—such a scream as could come from not being born of earth, or wholly of earth.\""
      ]
     },
     "execution_count": 18,
     "metadata": {},
     "output_type": "execute_result"
    }
   ],
   "source": [
    "train_df['excerpt'].values[0]"
   ]
  },
  {
   "cell_type": "code",
   "execution_count": 19,
   "id": "3a467a9f-58fa-4368-bdd4-3e6a4f19462c",
   "metadata": {},
   "outputs": [
    {
     "data": {
      "text/plain": [
       "'The commutator is peculiar, consisting of only three segments of a copper ring, while in the simplest of other continuous current generators several times that number exist, and frequently 120! segments are to be found. These three segments are made so as to be removable in a moment for cleaning or replacement. They are mounted upon a metal support, and are surrounded on all sides by a free air space, and cannot, therefore, lose their insulated condition. This feature of air insulation is peculiar to this system, and is very important as a factor in the durability of the commutator. Besides this, the commutator is sustained by supports carried in flanges upon the shaft, which flanges, as an additional safeguard, are coated all over with hard rubber, one of the finest known insulators. It may be stated, without fear of contradiction, that no other commutator made is so thoroughly insulated and protected. The three commutator segments virtually constitute a single copper ring, mounted in free air, and cut into three equal pieces by slots across its face.'"
      ]
     },
     "execution_count": 19,
     "metadata": {},
     "output_type": "execute_result"
    }
   ],
   "source": [
    "train_df['excerpt_shifted'].values[0]"
   ]
  },
  {
   "cell_type": "code",
   "execution_count": 20,
   "id": "a9c42b4e-5efc-4712-957e-9a493c1e8da4",
   "metadata": {},
   "outputs": [
    {
     "data": {
      "text/plain": [
       "\"The Dunwich horror itself came between Lammas and the equinox in 1928, and Dr. Armitage was among those who witnessed its monstrous prologue. He had heard, meanwhile, of Whateley's grotesque trip to Cambridge, and of his frantic efforts to borrow or copy from the Necronomicon at the Widener Library. Those efforts had been in vain, since Armitage had issued warnings of the keenest intensity to all librarians having charge of the dreaded volume. Wilbur had been shockingly nervous at Cambridge; anxious for the book, yet almost equally anxious to get home again, as if he feared the results of being away long.\\nEarly in August the half-expected outcome developed, and in the small hours of the third Dr. Armitage was awakened suddenly by the wild, fierce cries of the savage watchdog on the college campus. Deep and terrible, the snarling, half-mad growls and barks continued; always in mounting volume, but with hideously significant pauses. Then there rang out a scream from a wholly different throat—such a scream as roused half the sleepers of Arkham and haunted their dreams ever afterward—such a scream as could come from not being born of earth, or wholly of earth.\\nThe commutator is peculiar, consisting of only three segments of a copper ring, while in the simplest of other continuous current generators several times that number exist, and frequently 120! segments are to be found. These three segments are made so as to be removable in a moment for cleaning or replacement. They are mounted upon a metal support, and are surrounded on all sides by a free air space, and cannot, therefore, lose their insulated condition. This feature of air insulation is peculiar to this system, and is very important as a factor in the durability of the commutator. Besides this, the commutator is sustained by supports carried in flanges upon the shaft, which flanges, as an additional safeguard, are coated all over with hard rubber, one of the finest known insulators. It may be stated, without fear of contradiction, that no other commutator made is so thoroughly insulated and protected. The three commutator segments virtually constitute a single copper ring, mounted in free air, and cut into three equal pieces by slots across its face.\""
      ]
     },
     "execution_count": 20,
     "metadata": {},
     "output_type": "execute_result"
    }
   ],
   "source": [
    "train_df['excerpt_duo'].values[0]"
   ]
  },
  {
   "cell_type": "code",
   "execution_count": 21,
   "id": "a94de96e-5b88-4965-84a6-9a809cf9f5a9",
   "metadata": {},
   "outputs": [],
   "source": [
    "train_duo_df = train_df[['id', 'url_legal', 'license', 'standard_error', 'excerpt_duo', 'target_mean']]"
   ]
  },
  {
   "cell_type": "code",
   "execution_count": 22,
   "id": "1490f396-4b18-4544-8b7c-3e7cd09e7891",
   "metadata": {},
   "outputs": [],
   "source": [
    "train_duo_df.columns = ['id', 'url_legal', 'license', 'standard_error', 'excerpt', 'target']"
   ]
  },
  {
   "cell_type": "code",
   "execution_count": 23,
   "id": "21e5a4a5-5963-4c3c-9d06-24091be812fa",
   "metadata": {},
   "outputs": [
    {
     "data": {
      "text/html": [
       "<div>\n",
       "<style scoped>\n",
       "    .dataframe tbody tr th:only-of-type {\n",
       "        vertical-align: middle;\n",
       "    }\n",
       "\n",
       "    .dataframe tbody tr th {\n",
       "        vertical-align: top;\n",
       "    }\n",
       "\n",
       "    .dataframe thead th {\n",
       "        text-align: right;\n",
       "    }\n",
       "</style>\n",
       "<table border=\"1\" class=\"dataframe\">\n",
       "  <thead>\n",
       "    <tr style=\"text-align: right;\">\n",
       "      <th></th>\n",
       "      <th>id</th>\n",
       "      <th>url_legal</th>\n",
       "      <th>license</th>\n",
       "      <th>standard_error</th>\n",
       "      <th>excerpt</th>\n",
       "      <th>target</th>\n",
       "    </tr>\n",
       "  </thead>\n",
       "  <tbody>\n",
       "    <tr>\n",
       "      <th>1142</th>\n",
       "      <td>493b80aa7</td>\n",
       "      <td>NaN</td>\n",
       "      <td>NaN</td>\n",
       "      <td>0.571404</td>\n",
       "      <td>The Dunwich horror itself came between Lammas ...</td>\n",
       "      <td>-3.672314</td>\n",
       "    </tr>\n",
       "    <tr>\n",
       "      <th>1769</th>\n",
       "      <td>fe44cbd14</td>\n",
       "      <td>NaN</td>\n",
       "      <td>NaN</td>\n",
       "      <td>0.644398</td>\n",
       "      <td>The iron cylinder weighs 23 kilogrammes; but, ...</td>\n",
       "      <td>-3.655626</td>\n",
       "    </tr>\n",
       "    <tr>\n",
       "      <th>1767</th>\n",
       "      <td>284eaa5ad</td>\n",
       "      <td>NaN</td>\n",
       "      <td>NaN</td>\n",
       "      <td>0.603819</td>\n",
       "      <td>As to surface-slope its measurement—from nearl...</td>\n",
       "      <td>-3.641414</td>\n",
       "    </tr>\n",
       "    <tr>\n",
       "      <th>1735</th>\n",
       "      <td>9e9eacb49</td>\n",
       "      <td>NaN</td>\n",
       "      <td>NaN</td>\n",
       "      <td>0.606822</td>\n",
       "      <td>The tree is dioecious, bearing male catkins on...</td>\n",
       "      <td>-3.638385</td>\n",
       "    </tr>\n",
       "    <tr>\n",
       "      <th>1854</th>\n",
       "      <td>466e33a64</td>\n",
       "      <td>NaN</td>\n",
       "      <td>NaN</td>\n",
       "      <td>0.567050</td>\n",
       "      <td>The copper even of such a conductor has been m...</td>\n",
       "      <td>-3.616792</td>\n",
       "    </tr>\n",
       "    <tr>\n",
       "      <th>...</th>\n",
       "      <td>...</td>\n",
       "      <td>...</td>\n",
       "      <td>...</td>\n",
       "      <td>...</td>\n",
       "      <td>...</td>\n",
       "      <td>...</td>\n",
       "    </tr>\n",
       "    <tr>\n",
       "      <th>1080</th>\n",
       "      <td>016913371</td>\n",
       "      <td>https://www.africanstorybook.org/</td>\n",
       "      <td>CC BY 4.0</td>\n",
       "      <td>0.599600</td>\n",
       "      <td>Grandma's garden was wonderful. It was full of...</td>\n",
       "      <td>1.466629</td>\n",
       "    </tr>\n",
       "    <tr>\n",
       "      <th>1028</th>\n",
       "      <td>7a1d484be</td>\n",
       "      <td>https://www.africanstorybook.org/</td>\n",
       "      <td>CC BY 4.0</td>\n",
       "      <td>0.606997</td>\n",
       "      <td>More people came to the bus stop just before 9...</td>\n",
       "      <td>1.504669</td>\n",
       "    </tr>\n",
       "    <tr>\n",
       "      <th>822</th>\n",
       "      <td>8f35441e3</td>\n",
       "      <td>https://www.africanstorybook.org/#</td>\n",
       "      <td>CC BY 4.0</td>\n",
       "      <td>0.624776</td>\n",
       "      <td>Every day, Emeka's father took him to school i...</td>\n",
       "      <td>1.562759</td>\n",
       "    </tr>\n",
       "    <tr>\n",
       "      <th>995</th>\n",
       "      <td>849971671</td>\n",
       "      <td>https://www.africanstorybook.org/</td>\n",
       "      <td>CC BY 4.0</td>\n",
       "      <td>0.596349</td>\n",
       "      <td>For her last birthday, Sisanda had a special t...</td>\n",
       "      <td>1.590858</td>\n",
       "    </tr>\n",
       "    <tr>\n",
       "      <th>2844</th>\n",
       "      <td>25ca8f498</td>\n",
       "      <td>https://sites.ehe.osu.edu/beyondpenguins/files...</td>\n",
       "      <td>CC BY-SA 3.0</td>\n",
       "      <td>0.646900</td>\n",
       "      <td>When you think of dinosaurs and where they liv...</td>\n",
       "      <td>1.654630</td>\n",
       "    </tr>\n",
       "  </tbody>\n",
       "</table>\n",
       "<p>2848 rows × 6 columns</p>\n",
       "</div>"
      ],
      "text/plain": [
       "             id                                          url_legal  \\\n",
       "1142  493b80aa7                                                NaN   \n",
       "1769  fe44cbd14                                                NaN   \n",
       "1767  284eaa5ad                                                NaN   \n",
       "1735  9e9eacb49                                                NaN   \n",
       "1854  466e33a64                                                NaN   \n",
       "...         ...                                                ...   \n",
       "1080  016913371                  https://www.africanstorybook.org/   \n",
       "1028  7a1d484be                  https://www.africanstorybook.org/   \n",
       "822   8f35441e3                 https://www.africanstorybook.org/#   \n",
       "995   849971671                  https://www.africanstorybook.org/   \n",
       "2844  25ca8f498  https://sites.ehe.osu.edu/beyondpenguins/files...   \n",
       "\n",
       "           license  standard_error  \\\n",
       "1142           NaN        0.571404   \n",
       "1769           NaN        0.644398   \n",
       "1767           NaN        0.603819   \n",
       "1735           NaN        0.606822   \n",
       "1854           NaN        0.567050   \n",
       "...            ...             ...   \n",
       "1080     CC BY 4.0        0.599600   \n",
       "1028     CC BY 4.0        0.606997   \n",
       "822      CC BY 4.0        0.624776   \n",
       "995      CC BY 4.0        0.596349   \n",
       "2844  CC BY-SA 3.0        0.646900   \n",
       "\n",
       "                                                excerpt    target  \n",
       "1142  The Dunwich horror itself came between Lammas ... -3.672314  \n",
       "1769  The iron cylinder weighs 23 kilogrammes; but, ... -3.655626  \n",
       "1767  As to surface-slope its measurement—from nearl... -3.641414  \n",
       "1735  The tree is dioecious, bearing male catkins on... -3.638385  \n",
       "1854  The copper even of such a conductor has been m... -3.616792  \n",
       "...                                                 ...       ...  \n",
       "1080  Grandma's garden was wonderful. It was full of...  1.466629  \n",
       "1028  More people came to the bus stop just before 9...  1.504669  \n",
       "822   Every day, Emeka's father took him to school i...  1.562759  \n",
       "995   For her last birthday, Sisanda had a special t...  1.590858  \n",
       "2844  When you think of dinosaurs and where they liv...  1.654630  \n",
       "\n",
       "[2848 rows x 6 columns]"
      ]
     },
     "execution_count": 23,
     "metadata": {},
     "output_type": "execute_result"
    }
   ],
   "source": [
    "train_duo_df"
   ]
  },
  {
   "cell_type": "code",
   "execution_count": 24,
   "id": "7bf147cc-336d-468c-85e9-cd1d860c8154",
   "metadata": {},
   "outputs": [
    {
     "data": {
      "text/plain": [
       "\"The Dunwich horror itself came between Lammas and the equinox in 1928, and Dr. Armitage was among those who witnessed its monstrous prologue. He had heard, meanwhile, of Whateley's grotesque trip to Cambridge, and of his frantic efforts to borrow or copy from the Necronomicon at the Widener Library. Those efforts had been in vain, since Armitage had issued warnings of the keenest intensity to all librarians having charge of the dreaded volume. Wilbur had been shockingly nervous at Cambridge; anxious for the book, yet almost equally anxious to get home again, as if he feared the results of being away long.\\nEarly in August the half-expected outcome developed, and in the small hours of the third Dr. Armitage was awakened suddenly by the wild, fierce cries of the savage watchdog on the college campus. Deep and terrible, the snarling, half-mad growls and barks continued; always in mounting volume, but with hideously significant pauses. Then there rang out a scream from a wholly different throat—such a scream as roused half the sleepers of Arkham and haunted their dreams ever afterward—such a scream as could come from not being born of earth, or wholly of earth.\\nThe commutator is peculiar, consisting of only three segments of a copper ring, while in the simplest of other continuous current generators several times that number exist, and frequently 120! segments are to be found. These three segments are made so as to be removable in a moment for cleaning or replacement. They are mounted upon a metal support, and are surrounded on all sides by a free air space, and cannot, therefore, lose their insulated condition. This feature of air insulation is peculiar to this system, and is very important as a factor in the durability of the commutator. Besides this, the commutator is sustained by supports carried in flanges upon the shaft, which flanges, as an additional safeguard, are coated all over with hard rubber, one of the finest known insulators. It may be stated, without fear of contradiction, that no other commutator made is so thoroughly insulated and protected. The three commutator segments virtually constitute a single copper ring, mounted in free air, and cut into three equal pieces by slots across its face.\""
      ]
     },
     "execution_count": 24,
     "metadata": {},
     "output_type": "execute_result"
    }
   ],
   "source": [
    "train_duo_df['excerpt'].values[0]"
   ]
  },
  {
   "cell_type": "code",
   "execution_count": 25,
   "id": "3c022473-c9ab-4e1f-bbf1-11e015813817",
   "metadata": {},
   "outputs": [],
   "source": [
    "train_duo_df.reset_index(inplace=True)"
   ]
  },
  {
   "cell_type": "code",
   "execution_count": 26,
   "id": "a6473f3f-0aed-499e-a2b8-2cc3a373c6e4",
   "metadata": {},
   "outputs": [],
   "source": [
    "import re"
   ]
  },
  {
   "cell_type": "code",
   "execution_count": 28,
   "id": "b89c15a7-aafb-4fe2-b810-55a8549e1e5a",
   "metadata": {},
   "outputs": [
    {
     "name": "stderr",
     "output_type": "stream",
     "text": [
      "<ipython-input-28-870e01a3e1a6>:1: SettingWithCopyWarning: \n",
      "A value is trying to be set on a copy of a slice from a DataFrame.\n",
      "Try using .loc[row_indexer,col_indexer] = value instead\n",
      "\n",
      "See the caveats in the documentation: https://pandas.pydata.org/pandas-docs/stable/user_guide/indexing.html#returning-a-view-versus-a-copy\n",
      "  train_duo_df['excerpt_shortened'] = train_duo_df['excerpt'].apply(lambda t: re.sub(r'(.+\\.).+', r'\\1',  t))\n"
     ]
    }
   ],
   "source": [
    "train_duo_df['excerpt_shortened'] = train_duo_df['excerpt'].apply(lambda t: re.sub(r'(.+\\.).+', r'\\1',  t))"
   ]
  },
  {
   "cell_type": "code",
   "execution_count": 29,
   "id": "3d36706d-f991-4f38-8800-fba4f57a6f44",
   "metadata": {},
   "outputs": [
    {
     "data": {
      "text/plain": [
       "'Bull, John, a fine, fat, American-beef fed individual who inhabits a suffragette-infested island somewhere in the North Atlantic. Born several hundred years ago and is beginning to show his age. Is fond of the sea and is said to have a fine fleet. This has had off years, notably 1812. B. has had trouble with a son who wishes to leave the paternal protection. Is fearless except when faced by a hunger strike, the Pankhurst family, and thoughts of Germany. Patronizes a costly social organization known as the Royal Family, or a reception committee for American heiresstocracy, which also dedicates buildings, poses for stamps, post-cards, motion pictures and raises princesses of Wales for magazine articles and crowning purposes. B. is a monitor of English style; wears a monocle, spats, \\'i \\'at, cane, pipe, awful accent, and never makes his appearance without a cawld bawth. He detests the word \"egotism.\" Is a celebrated humorist, seeing through all jokes but himself. Ambition: \\'Ome sweet \\'Ome. Recreation: Tea, Week Ends. Address: Hingland. Clubs: Policemen\\'s, Golf, Jockey, and Suffrage. Epitaph: See Emperor William Again.\\nCharge is the fundamental property of forms of matter that exhibit electrostatic attraction or repulsion in the presence of other matter. Electric charge is a characteristic property of many subatomic particles. The charges of free-standing particles are integer multiples of the elementary charge e; we say that electric charge is quantized. Michael Faraday, in his electrolysis experiments, was the first to note the discrete nature of electric charge. Robert Millikan\\'s oil drop experiment demonstrated this fact directly, and measured the elementary charge. It has been discovered that one type of particle, quarks, have fractional charges of either -1/3 or +2/3, but it is believed they always occur in multiples of integral charge; free-standing quarks have never been observed.\\nBy convention, the charge of an electron is negative, -e, while that of a proton is positive, +e. Charged particles whose charges have the same sign repel one another, and particles whose charges have different signs attract. Coulomb\\'s law quantifies the electrostatic force between two particles by asserting that the force is proportional to the product of their charges, and inversely proportional to the square of the distance between them.'"
      ]
     },
     "execution_count": 29,
     "metadata": {},
     "output_type": "execute_result"
    }
   ],
   "source": [
    "train_duo_df.iloc[18]['excerpt']"
   ]
  },
  {
   "cell_type": "code",
   "execution_count": 30,
   "id": "3efc9e47-a546-4fc0-9334-af0fd4f42525",
   "metadata": {},
   "outputs": [
    {
     "data": {
      "text/plain": [
       "'Bull, John, a fine, fat, American-beef fed individual who inhabits a suffragette-infested island somewhere in the North Atlantic. Born several hundred years ago and is beginning to show his age. Is fond of the sea and is said to have a fine fleet. This has had off years, notably 1812. B. has had trouble with a son who wishes to leave the paternal protection. Is fearless except when faced by a hunger strike, the Pankhurst family, and thoughts of Germany. Patronizes a costly social organization known as the Royal Family, or a reception committee for American heiresstocracy, which also dedicates buildings, poses for stamps, post-cards, motion pictures and raises princesses of Wales for magazine articles and crowning purposes. B. is a monitor of English style; wears a monocle, spats, \\'i \\'at, cane, pipe, awful accent, and never makes his appearance without a cawld bawth. He detests the word \"egotism.\" Is a celebrated humorist, seeing through all jokes but himself. Ambition: \\'Ome sweet \\'Ome. Recreation: Tea, Week Ends. Address: Hingland. Clubs: Policemen\\'s, Golf, Jockey, and Suffrage.\\nCharge is the fundamental property of forms of matter that exhibit electrostatic attraction or repulsion in the presence of other matter. Electric charge is a characteristic property of many subatomic particles. The charges of free-standing particles are integer multiples of the elementary charge e; we say that electric charge is quantized. Michael Faraday, in his electrolysis experiments, was the first to note the discrete nature of electric charge. Robert Millikan\\'s oil drop experiment demonstrated this fact directly, and measured the elementary charge.\\nBy convention, the charge of an electron is negative, -e, while that of a proton is positive, +e. Charged particles whose charges have the same sign repel one another, and particles whose charges have different signs attract.'"
      ]
     },
     "execution_count": 30,
     "metadata": {},
     "output_type": "execute_result"
    }
   ],
   "source": [
    "train_duo_df.iloc[18]['excerpt_shortened']"
   ]
  },
  {
   "cell_type": "code",
   "execution_count": 31,
   "id": "8719716e-fe27-4397-9b81-007aa495965d",
   "metadata": {},
   "outputs": [],
   "source": [
    "train_duo_df.to_csv(DATA_PATH/'train_duo.csv')"
   ]
  },
  {
   "cell_type": "markdown",
   "id": "80f9d38f-4496-420d-8d4b-d28bb24dd6fd",
   "metadata": {},
   "source": [
    "### Configuration"
   ]
  },
  {
   "cell_type": "code",
   "execution_count": 32,
   "id": "229b1b24-233b-4a4e-b759-78b3986bdbb4",
   "metadata": {},
   "outputs": [],
   "source": [
    "class CONFIG():\n",
    "    model_name = 'distilroberta'\n",
    "    batch_size = 12\n",
    "    max_len = 512\n",
    "    save_dir = f'trained/{model_name}'\n",
    "    num_workers = 2\n",
    "    epochs = 15\n",
    "    pretrained_transformers_model = f'{model_name}-base'\n",
    "    mlm_probability= 0.15\n",
    "    preprocessing_num_workers = 2\n",
    "    overwrite_cache = True\n",
    "    do_train = True"
   ]
  },
  {
   "cell_type": "code",
   "execution_count": 33,
   "id": "7e00160a-ea34-45e8-b147-6da8c2a3130e",
   "metadata": {},
   "outputs": [],
   "source": [
    "cfg = CONFIG()"
   ]
  },
  {
   "cell_type": "markdown",
   "id": "05ab8b20-6c63-4d51-b6fe-39ff141ad03e",
   "metadata": {},
   "source": [
    "### Prepare Train / Validation Set"
   ]
  },
  {
   "cell_type": "code",
   "execution_count": 34,
   "id": "000cc1cf-b423-4c87-8069-62652f798c26",
   "metadata": {},
   "outputs": [],
   "source": [
    "commonlit_lm_path = DATA_PATH/'commonlit_lm'"
   ]
  },
  {
   "cell_type": "code",
   "execution_count": null,
   "id": "d26c1baf-05c1-4308-8843-947b0d163c50",
   "metadata": {},
   "outputs": [],
   "source": [
    "if not commonlit_lm_path.exists():\n",
    "    commonlit_lm_path.mkdir()"
   ]
  },
  {
   "cell_type": "code",
   "execution_count": 35,
   "id": "c4fcd590-9e30-44e9-b424-515085eb185a",
   "metadata": {},
   "outputs": [],
   "source": [
    "all_text = train_duo_df['excerpt_shortened'].values\n",
    "valid_text = test_df['excerpt'].values"
   ]
  },
  {
   "cell_type": "code",
   "execution_count": 36,
   "id": "d72aebb9-6807-4880-a241-847c44252cba",
   "metadata": {},
   "outputs": [],
   "source": [
    "# def write_to_text_file(data, file):\n",
    "#     with open(file, 'w') as f:\n",
    "#         for t in data:\n",
    "#             f.write(f'{t}\\n')"
   ]
  },
  {
   "cell_type": "code",
   "execution_count": 37,
   "id": "429a926a-c792-45be-bffa-bd887d55c162",
   "metadata": {},
   "outputs": [],
   "source": [
    "# write_to_text_file(all_text, common_lit_text_file)\n",
    "# write_to_text_file(valid_text, common_lit_valid_file)"
   ]
  },
  {
   "cell_type": "code",
   "execution_count": 38,
   "id": "79a8106f-9073-40e9-8951-5af6dce939a2",
   "metadata": {},
   "outputs": [],
   "source": [
    "train_text_dict = {'text': all_text.tolist()}\n",
    "valid_text_dict = {'text': valid_text.tolist()}"
   ]
  },
  {
   "cell_type": "code",
   "execution_count": 39,
   "id": "e8a90766-e63a-44e6-9867-40279332f873",
   "metadata": {},
   "outputs": [],
   "source": [
    "import datasets\n",
    "\n",
    "dataset = datasets.Dataset.from_dict(train_text_dict)\n",
    "valid_dataset = datasets.Dataset.from_dict(valid_text_dict)"
   ]
  },
  {
   "cell_type": "code",
   "execution_count": 40,
   "id": "c9f218df-bb8b-4c7d-a449-8a7084be227b",
   "metadata": {},
   "outputs": [
    {
     "data": {
      "text/plain": [
       "Dataset({\n",
       "    features: ['text'],\n",
       "    num_rows: 2848\n",
       "})"
      ]
     },
     "execution_count": 40,
     "metadata": {},
     "output_type": "execute_result"
    }
   ],
   "source": [
    "dataset"
   ]
  },
  {
   "cell_type": "code",
   "execution_count": 41,
   "id": "09e5cc14-e2a1-44fc-9f23-2d48637180c8",
   "metadata": {},
   "outputs": [],
   "source": [
    "column_names = dataset.column_names"
   ]
  },
  {
   "cell_type": "code",
   "execution_count": 42,
   "id": "37895bf6-c70a-464f-a8a4-76c77efc7d33",
   "metadata": {},
   "outputs": [
    {
     "data": {
      "text/plain": [
       "'text'"
      ]
     },
     "execution_count": 42,
     "metadata": {},
     "output_type": "execute_result"
    }
   ],
   "source": [
    "column_names[0]"
   ]
  },
  {
   "cell_type": "code",
   "execution_count": 43,
   "id": "43376e11-8fa4-4ac3-8ae8-215cb105b401",
   "metadata": {},
   "outputs": [],
   "source": [
    "tokenizer = AutoTokenizer.from_pretrained(cfg.pretrained_transformers_model)"
   ]
  },
  {
   "cell_type": "code",
   "execution_count": 44,
   "id": "1b507057-26d8-4796-ac40-d16a33b702e4",
   "metadata": {},
   "outputs": [],
   "source": [
    "def tokenize_function(examples):\n",
    "    return tokenizer(examples[column_names[0]], return_special_tokens_mask=True)"
   ]
  },
  {
   "cell_type": "code",
   "execution_count": 45,
   "id": "d96450fb-fcc6-4c1b-8a03-f360ccd61c64",
   "metadata": {},
   "outputs": [
    {
     "name": "stdout",
     "output_type": "stream",
     "text": [
      "\n",
      "\n"
     ]
    }
   ],
   "source": [
    "tokenized_datasets = dataset.map(\n",
    "    tokenize_function,\n",
    "    batched=True,\n",
    "    num_proc=cfg.preprocessing_num_workers,\n",
    "    remove_columns=column_names,\n",
    "    load_from_cache_file=not cfg.overwrite_cache,\n",
    ")"
   ]
  },
  {
   "cell_type": "code",
   "execution_count": 46,
   "id": "9fe2350b-7f12-410f-8403-20e3e8e7af5f",
   "metadata": {},
   "outputs": [
    {
     "name": "stdout",
     "output_type": "stream",
     "text": [
      "\n",
      "\n"
     ]
    }
   ],
   "source": [
    "tokenized_valid_datasets = valid_dataset.map(\n",
    "    tokenize_function,\n",
    "    batched=True,\n",
    "    num_proc=cfg.preprocessing_num_workers,\n",
    "    remove_columns=column_names,\n",
    "    load_from_cache_file=not cfg.overwrite_cache,\n",
    ")"
   ]
  },
  {
   "cell_type": "code",
   "execution_count": 47,
   "id": "2cc18f17-4309-4ce7-8e28-33dbe38cb464",
   "metadata": {},
   "outputs": [],
   "source": [
    "for i, inputs in enumerate(tokenized_datasets):\n",
    "    input_length = len(inputs['input_ids'])\n",
    "    if input_length > 512:\n",
    "        print(i, input_length)"
   ]
  },
  {
   "cell_type": "code",
   "execution_count": 50,
   "id": "6d8756cc-bfbd-4d8e-9d85-a94e486b7d53",
   "metadata": {},
   "outputs": [
    {
     "data": {
      "text/plain": [
       "Dataset({\n",
       "    features: ['attention_mask', 'input_ids', 'special_tokens_mask'],\n",
       "    num_rows: 2848\n",
       "})"
      ]
     },
     "execution_count": 50,
     "metadata": {},
     "output_type": "execute_result"
    }
   ],
   "source": [
    "tokenized_datasets"
   ]
  },
  {
   "cell_type": "code",
   "execution_count": 48,
   "id": "74a52668-cff6-4e51-9a9f-7dd72566b407",
   "metadata": {},
   "outputs": [
    {
     "data": {
      "text/plain": [
       "Dataset({\n",
       "    features: ['attention_mask', 'input_ids', 'special_tokens_mask'],\n",
       "    num_rows: 7\n",
       "})"
      ]
     },
     "execution_count": 48,
     "metadata": {},
     "output_type": "execute_result"
    }
   ],
   "source": [
    "tokenized_valid_datasets"
   ]
  },
  {
   "cell_type": "code",
   "execution_count": 51,
   "id": "41929b40-8c9f-4e32-af73-476163f9515f",
   "metadata": {},
   "outputs": [],
   "source": [
    "train_dataset = tokenized_datasets\n",
    "valid_dataset = tokenized_valid_datasets"
   ]
  },
  {
   "cell_type": "markdown",
   "id": "941069e3-c670-4929-bd87-1c7651de3f70",
   "metadata": {},
   "source": [
    "### Model"
   ]
  },
  {
   "cell_type": "code",
   "execution_count": 52,
   "id": "2c83862f-f1b3-4512-a75b-af7348edb1cf",
   "metadata": {},
   "outputs": [],
   "source": [
    "model = AutoModelForMaskedLM.from_pretrained(cfg.pretrained_transformers_model)"
   ]
  },
  {
   "cell_type": "code",
   "execution_count": 53,
   "id": "88e87922-e401-42d6-8239-78f46bb9f1f8",
   "metadata": {},
   "outputs": [
    {
     "data": {
      "text/plain": [
       "DataCollatorForLanguageModeling(tokenizer=PreTrainedTokenizerFast(name_or_path='distilroberta-base', vocab_size=50265, model_max_len=512, is_fast=True, padding_side='right', special_tokens={'bos_token': '<s>', 'eos_token': '</s>', 'unk_token': '<unk>', 'sep_token': '</s>', 'pad_token': '<pad>', 'cls_token': '<s>', 'mask_token': AddedToken(\"<mask>\", rstrip=False, lstrip=True, single_word=False, normalized=False)}), mlm=True, mlm_probability=0.15, pad_to_multiple_of=None)"
      ]
     },
     "execution_count": 53,
     "metadata": {},
     "output_type": "execute_result"
    }
   ],
   "source": [
    "data_collator = DataCollatorForLanguageModeling(tokenizer=tokenizer, mlm=True, mlm_probability=cfg.mlm_probability)\n",
    "data_collator"
   ]
  },
  {
   "cell_type": "markdown",
   "id": "370fd3a4-9d7b-42be-b31c-2f6c6c15a3a0",
   "metadata": {},
   "source": [
    "### Training"
   ]
  },
  {
   "cell_type": "code",
   "execution_count": 54,
   "id": "d57cfc8c-551e-4f67-91f8-5aec7002d17b",
   "metadata": {},
   "outputs": [],
   "source": [
    "def create_training_args():\n",
    "    training_args = TrainingArguments(\n",
    "        output_dir=str(MODELS_PATH/f'{cfg.model_name}-lm'),\n",
    "        overwrite_output_dir=True,\n",
    "        do_train=True,\n",
    "        do_eval=True,\n",
    "        per_device_train_batch_size=cfg.batch_size,\n",
    "        per_device_eval_batch_size=cfg.batch_size,\n",
    "        num_train_epochs=cfg.epochs,\n",
    "        logging_strategy=\"epoch\",\n",
    "        logging_first_step=True,\n",
    "        save_steps=40000,\n",
    "        fp16=True,\n",
    "        evaluation_strategy=\"epoch\",\n",
    "        save_total_limit = 3,\n",
    "        load_best_model_at_end=True,\n",
    "        metric_for_best_model='eval_loss',\n",
    "        greater_is_better=False,\n",
    "        gradient_accumulation_steps=1,\n",
    "        learning_rate=5e-5\n",
    "    )\n",
    "    return training_args"
   ]
  },
  {
   "cell_type": "code",
   "execution_count": 55,
   "id": "18e1c48e-da7e-4a1e-b91e-c9c5a262a689",
   "metadata": {},
   "outputs": [],
   "source": [
    "training_args = create_training_args()"
   ]
  },
  {
   "cell_type": "code",
   "execution_count": 56,
   "id": "883bd02c-7ab8-4fdc-bb6e-42e6c98a0935",
   "metadata": {},
   "outputs": [
    {
     "data": {
      "text/plain": [
       "'/home/commonlit/models/distilroberta-lm'"
      ]
     },
     "execution_count": 56,
     "metadata": {},
     "output_type": "execute_result"
    }
   ],
   "source": [
    "training_args.output_dir"
   ]
  },
  {
   "cell_type": "code",
   "execution_count": 57,
   "id": "b824f020-8c68-44e6-aea4-ba919f9ae9f8",
   "metadata": {},
   "outputs": [],
   "source": [
    "trainer = Trainer(\n",
    "    model=model,\n",
    "    args=training_args,\n",
    "    train_dataset=train_dataset if cfg.do_train else None,\n",
    "    eval_dataset=valid_dataset,\n",
    "    tokenizer=tokenizer,\n",
    "    data_collator=data_collator,\n",
    "    callbacks=[EarlyStoppingCallback(early_stopping_patience=9)]\n",
    ")"
   ]
  },
  {
   "cell_type": "code",
   "execution_count": 58,
   "id": "68a48686-ddb0-4046-ab70-40e16117bd0c",
   "metadata": {},
   "outputs": [],
   "source": [
    "# import wandb"
   ]
  },
  {
   "cell_type": "code",
   "execution_count": 59,
   "id": "34a504b1-6a02-4a36-81a2-d5b9bb4139b4",
   "metadata": {},
   "outputs": [],
   "source": [
    "!rm -rf {training_args.output_dir}"
   ]
  },
  {
   "cell_type": "code",
   "execution_count": 60,
   "id": "e05a1af9-60ad-4750-ba51-15c679748446",
   "metadata": {},
   "outputs": [
    {
     "name": "stderr",
     "output_type": "stream",
     "text": [
      "\u001b[34m\u001b[1mwandb\u001b[0m: Currently logged in as: \u001b[33mgilf\u001b[0m (use `wandb login --relogin` to force relogin)\n",
      "\u001b[34m\u001b[1mwandb\u001b[0m: wandb version 0.10.32 is available!  To upgrade, please run:\n",
      "\u001b[34m\u001b[1mwandb\u001b[0m:  $ pip install wandb --upgrade\n"
     ]
    },
    {
     "data": {
      "text/html": [
       "\n",
       "                Tracking run with wandb version 0.10.31<br/>\n",
       "                Syncing run <strong style=\"color:#cdcd00\">/home/commonlit/models/distilroberta-lm</strong> to <a href=\"https://wandb.ai\" target=\"_blank\">Weights & Biases</a> <a href=\"https://docs.wandb.com/integrations/jupyter.html\" target=\"_blank\">(Documentation)</a>.<br/>\n",
       "                Project page: <a href=\"https://wandb.ai/gilf/huggingface\" target=\"_blank\">https://wandb.ai/gilf/huggingface</a><br/>\n",
       "                Run page: <a href=\"https://wandb.ai/gilf/huggingface/runs/qcnfzlm4\" target=\"_blank\">https://wandb.ai/gilf/huggingface/runs/qcnfzlm4</a><br/>\n",
       "                Run data is saved locally in <code>/home/commonlit/notebooks/wandb/run-20210615_171022-qcnfzlm4</code><br/><br/>\n",
       "            "
      ],
      "text/plain": [
       "<IPython.core.display.HTML object>"
      ]
     },
     "metadata": {},
     "output_type": "display_data"
    },
    {
     "data": {
      "text/html": [
       "\n",
       "    <div>\n",
       "      \n",
       "      <progress value='3570' max='3570' style='width:300px; height:20px; vertical-align: middle;'></progress>\n",
       "      [3570/3570 16:22, Epoch 15/15]\n",
       "    </div>\n",
       "    <table border=\"1\" class=\"dataframe\">\n",
       "  <thead>\n",
       "    <tr style=\"text-align: left;\">\n",
       "      <th>Epoch</th>\n",
       "      <th>Training Loss</th>\n",
       "      <th>Validation Loss</th>\n",
       "    </tr>\n",
       "  </thead>\n",
       "  <tbody>\n",
       "    <tr>\n",
       "      <td>1</td>\n",
       "      <td>2.059500</td>\n",
       "      <td>1.734749</td>\n",
       "    </tr>\n",
       "    <tr>\n",
       "      <td>2</td>\n",
       "      <td>1.950300</td>\n",
       "      <td>1.778868</td>\n",
       "    </tr>\n",
       "    <tr>\n",
       "      <td>3</td>\n",
       "      <td>1.898500</td>\n",
       "      <td>1.743046</td>\n",
       "    </tr>\n",
       "    <tr>\n",
       "      <td>4</td>\n",
       "      <td>1.842200</td>\n",
       "      <td>1.722952</td>\n",
       "    </tr>\n",
       "    <tr>\n",
       "      <td>5</td>\n",
       "      <td>1.814400</td>\n",
       "      <td>1.727978</td>\n",
       "    </tr>\n",
       "    <tr>\n",
       "      <td>6</td>\n",
       "      <td>1.760400</td>\n",
       "      <td>1.826205</td>\n",
       "    </tr>\n",
       "    <tr>\n",
       "      <td>7</td>\n",
       "      <td>1.719200</td>\n",
       "      <td>1.396691</td>\n",
       "    </tr>\n",
       "    <tr>\n",
       "      <td>8</td>\n",
       "      <td>1.701800</td>\n",
       "      <td>1.597278</td>\n",
       "    </tr>\n",
       "    <tr>\n",
       "      <td>9</td>\n",
       "      <td>1.655100</td>\n",
       "      <td>2.027725</td>\n",
       "    </tr>\n",
       "    <tr>\n",
       "      <td>10</td>\n",
       "      <td>1.632300</td>\n",
       "      <td>1.680905</td>\n",
       "    </tr>\n",
       "    <tr>\n",
       "      <td>11</td>\n",
       "      <td>1.619300</td>\n",
       "      <td>1.674048</td>\n",
       "    </tr>\n",
       "    <tr>\n",
       "      <td>12</td>\n",
       "      <td>1.608800</td>\n",
       "      <td>1.499511</td>\n",
       "    </tr>\n",
       "    <tr>\n",
       "      <td>13</td>\n",
       "      <td>1.592900</td>\n",
       "      <td>1.853415</td>\n",
       "    </tr>\n",
       "    <tr>\n",
       "      <td>14</td>\n",
       "      <td>1.560700</td>\n",
       "      <td>1.284432</td>\n",
       "    </tr>\n",
       "    <tr>\n",
       "      <td>15</td>\n",
       "      <td>1.569000</td>\n",
       "      <td>1.704986</td>\n",
       "    </tr>\n",
       "  </tbody>\n",
       "</table><p>"
      ],
      "text/plain": [
       "<IPython.core.display.HTML object>"
      ]
     },
     "metadata": {},
     "output_type": "display_data"
    },
    {
     "name": "stdout",
     "output_type": "stream",
     "text": [
      "CPU times: user 24min 28s, sys: 5min 13s, total: 29min 42s\n",
      "Wall time: 16min 29s\n"
     ]
    }
   ],
   "source": [
    "%%time\n",
    "\n",
    "trainer.train()\n",
    "trainer.save_model()"
   ]
  },
  {
   "cell_type": "code",
   "execution_count": 61,
   "id": "839234b6-a0ec-42c2-95bd-07d39f3fb51c",
   "metadata": {},
   "outputs": [
    {
     "name": "stdout",
     "output_type": "stream",
     "text": [
      "best_model_checkpoint /home/commonlit/models/distilroberta-lm/checkpoint-3332\n"
     ]
    }
   ],
   "source": [
    "print('best_model_checkpoint', trainer.state.best_model_checkpoint)"
   ]
  },
  {
   "cell_type": "code",
   "execution_count": 62,
   "id": "edc47c8e-6f86-4fe9-8e1f-6085c8127a15",
   "metadata": {},
   "outputs": [
    {
     "data": {
      "text/plain": [
       "PosixPath('/home/commonlit/models')"
      ]
     },
     "execution_count": 62,
     "metadata": {},
     "output_type": "execute_result"
    }
   ],
   "source": [
    "MODELS_PATH"
   ]
  },
  {
   "cell_type": "code",
   "execution_count": 63,
   "id": "f8ffe0ba-8412-4616-a0a4-78c0b4552f4b",
   "metadata": {},
   "outputs": [],
   "source": [
    "import shutil\n",
    "\n",
    "model_zip_file = shutil.make_archive(f'{MODELS_PATH}/{cfg.model_name}/commonlit_distil_roberta_lm', 'zip', trainer.state.best_model_checkpoint)"
   ]
  },
  {
   "cell_type": "code",
   "execution_count": 68,
   "id": "f75802e3-ac7f-4b8c-9c69-cfdb6912004c",
   "metadata": {},
   "outputs": [],
   "source": [
    "export_file_name = f'{MODELS_PATH}/{cfg.model_name}/commonlit_distil_roberta_lm.zip'"
   ]
  },
  {
   "cell_type": "code",
   "execution_count": 69,
   "id": "f403fb7e-8f0a-40f5-a0be-d73b604b3cb5",
   "metadata": {},
   "outputs": [
    {
     "name": "stdout",
     "output_type": "stream",
     "text": [
      "873M\t/home/commonlit/models/distilroberta/commonlit_distil_roberta_lm.zip\n"
     ]
    }
   ],
   "source": [
    "!du -h {export_file_name}"
   ]
  },
  {
   "cell_type": "code",
   "execution_count": 70,
   "id": "200ae0ae-490c-4d60-b518-87547818b70c",
   "metadata": {},
   "outputs": [
    {
     "name": "stdout",
     "output_type": "stream",
     "text": [
      "mkdir: cannot create directory ‘/home/commonlit/models/distilroberta_lm’: File exists\n"
     ]
    }
   ],
   "source": [
    "!mkdir /home/commonlit/models/distilroberta_lm\n",
    "!mv {trainer.state.best_model_checkpoint} /home/commonlit/models/distilroberta_lm/best_model"
   ]
  },
  {
   "cell_type": "code",
   "execution_count": null,
   "id": "9e1717a9-c8a0-4709-b7a7-2acd9244bb76",
   "metadata": {},
   "outputs": [],
   "source": []
  }
 ],
 "metadata": {
  "kernelspec": {
   "display_name": "Python 3",
   "language": "python",
   "name": "python3"
  },
  "language_info": {
   "codemirror_mode": {
    "name": "ipython",
    "version": 3
   },
   "file_extension": ".py",
   "mimetype": "text/x-python",
   "name": "python",
   "nbconvert_exporter": "python",
   "pygments_lexer": "ipython3",
   "version": "3.8.5"
  }
 },
 "nbformat": 4,
 "nbformat_minor": 5
}
